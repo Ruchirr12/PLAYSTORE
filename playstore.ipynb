{
  "cells": [
    {
      "cell_type": "code",
      "execution_count": null,
      "metadata": {
        "id": "HHoNdhPBv8me"
      },
      "outputs": [],
      "source": [
        "import numpy as np\n",
        "import pandas as pd\n",
        "\n",
        "df = pd.read_csv('Google-Playstore.csv')"
      ]
    },
    {
      "cell_type": "code",
      "execution_count": null,
      "metadata": {
        "colab": {
          "base_uri": "https://localhost:8080/",
          "height": 542
        },
        "id": "fZ2OVR0mv8mq",
        "outputId": "5f01f60d-6b4e-4bb4-f50d-01d3798d9bb3"
      },
      "outputs": [
        {
          "output_type": "execute_result",
          "data": {
            "text/plain": [
              "                                            App Name  \\\n",
              "0                                            Gakondo   \n",
              "1                                Ampere Battery Info   \n",
              "2                                             Vibook   \n",
              "3  Smart City Trichy Public Service Vehicles 17UC...   \n",
              "4                                            GROW.me   \n",
              "\n",
              "                       App Id       Category  Rating  Rating Count Installs  \\\n",
              "0         com.ishakwe.gakondo      Adventure     0.0           0.0      10+   \n",
              "1  com.webserveis.batteryinfo          Tools     4.4          64.0   5,000+   \n",
              "2        com.doantiepvien.crm   Productivity     0.0           0.0      50+   \n",
              "3     cst.stJoseph.ug17ucs548  Communication     5.0           5.0      10+   \n",
              "4        com.horodyski.grower          Tools     0.0           0.0     100+   \n",
              "\n",
              "   Minimum Installs  Maximum Installs  Free  Price  ...  \\\n",
              "0              10.0                15  True    0.0  ...   \n",
              "1            5000.0              7662  True    0.0  ...   \n",
              "2              50.0                58  True    0.0  ...   \n",
              "3              10.0                19  True    0.0  ...   \n",
              "4             100.0               478  True    0.0  ...   \n",
              "\n",
              "                  Developer Website              Developer Email  \\\n",
              "0       https://beniyizibyose.tk/#/       jean21101999@gmail.com   \n",
              "1   https://webserveis.netlify.app/         webserveis@gmail.com   \n",
              "2                               NaN          vnacrewit@gmail.com   \n",
              "3  http://www.climatesmarttech.com/  climatesmarttech2@gmail.com   \n",
              "4       http://www.horodyski.com.pl    rmilekhorodyski@gmail.com   \n",
              "\n",
              "       Released  Last Updated Content Rating  \\\n",
              "0  Feb 26, 2020  Feb 26, 2020       Everyone   \n",
              "1  May 21, 2020  May 06, 2021       Everyone   \n",
              "2   Aug 9, 2019  Aug 19, 2019       Everyone   \n",
              "3  Sep 10, 2018  Oct 13, 2018       Everyone   \n",
              "4  Feb 21, 2020  Nov 12, 2018       Everyone   \n",
              "\n",
              "                                      Privacy Policy Ad Supported  \\\n",
              "0                 https://beniyizibyose.tk/projects/        False   \n",
              "1  https://dev4phones.wordpress.com/licencia-de-uso/         True   \n",
              "2  https://www.vietnamairlines.com/vn/en/terms-an...        False   \n",
              "3                                                NaN         True   \n",
              "4                        http://www.horodyski.com.pl        False   \n",
              "\n",
              "  In App Purchases Editors Choice         Scraped Time  \n",
              "0            False          False  2021-06-15 20:19:35  \n",
              "1            False          False  2021-06-15 20:19:35  \n",
              "2            False          False  2021-06-15 20:19:35  \n",
              "3            False          False  2021-06-15 20:19:35  \n",
              "4            False          False  2021-06-15 20:19:35  \n",
              "\n",
              "[5 rows x 24 columns]"
            ],
            "text/html": [
              "\n",
              "  <div id=\"df-44420edb-ecdc-4828-9668-d5742920c4fe\">\n",
              "    <div class=\"colab-df-container\">\n",
              "      <div>\n",
              "<style scoped>\n",
              "    .dataframe tbody tr th:only-of-type {\n",
              "        vertical-align: middle;\n",
              "    }\n",
              "\n",
              "    .dataframe tbody tr th {\n",
              "        vertical-align: top;\n",
              "    }\n",
              "\n",
              "    .dataframe thead th {\n",
              "        text-align: right;\n",
              "    }\n",
              "</style>\n",
              "<table border=\"1\" class=\"dataframe\">\n",
              "  <thead>\n",
              "    <tr style=\"text-align: right;\">\n",
              "      <th></th>\n",
              "      <th>App Name</th>\n",
              "      <th>App Id</th>\n",
              "      <th>Category</th>\n",
              "      <th>Rating</th>\n",
              "      <th>Rating Count</th>\n",
              "      <th>Installs</th>\n",
              "      <th>Minimum Installs</th>\n",
              "      <th>Maximum Installs</th>\n",
              "      <th>Free</th>\n",
              "      <th>Price</th>\n",
              "      <th>...</th>\n",
              "      <th>Developer Website</th>\n",
              "      <th>Developer Email</th>\n",
              "      <th>Released</th>\n",
              "      <th>Last Updated</th>\n",
              "      <th>Content Rating</th>\n",
              "      <th>Privacy Policy</th>\n",
              "      <th>Ad Supported</th>\n",
              "      <th>In App Purchases</th>\n",
              "      <th>Editors Choice</th>\n",
              "      <th>Scraped Time</th>\n",
              "    </tr>\n",
              "  </thead>\n",
              "  <tbody>\n",
              "    <tr>\n",
              "      <th>0</th>\n",
              "      <td>Gakondo</td>\n",
              "      <td>com.ishakwe.gakondo</td>\n",
              "      <td>Adventure</td>\n",
              "      <td>0.0</td>\n",
              "      <td>0.0</td>\n",
              "      <td>10+</td>\n",
              "      <td>10.0</td>\n",
              "      <td>15</td>\n",
              "      <td>True</td>\n",
              "      <td>0.0</td>\n",
              "      <td>...</td>\n",
              "      <td>https://beniyizibyose.tk/#/</td>\n",
              "      <td>jean21101999@gmail.com</td>\n",
              "      <td>Feb 26, 2020</td>\n",
              "      <td>Feb 26, 2020</td>\n",
              "      <td>Everyone</td>\n",
              "      <td>https://beniyizibyose.tk/projects/</td>\n",
              "      <td>False</td>\n",
              "      <td>False</td>\n",
              "      <td>False</td>\n",
              "      <td>2021-06-15 20:19:35</td>\n",
              "    </tr>\n",
              "    <tr>\n",
              "      <th>1</th>\n",
              "      <td>Ampere Battery Info</td>\n",
              "      <td>com.webserveis.batteryinfo</td>\n",
              "      <td>Tools</td>\n",
              "      <td>4.4</td>\n",
              "      <td>64.0</td>\n",
              "      <td>5,000+</td>\n",
              "      <td>5000.0</td>\n",
              "      <td>7662</td>\n",
              "      <td>True</td>\n",
              "      <td>0.0</td>\n",
              "      <td>...</td>\n",
              "      <td>https://webserveis.netlify.app/</td>\n",
              "      <td>webserveis@gmail.com</td>\n",
              "      <td>May 21, 2020</td>\n",
              "      <td>May 06, 2021</td>\n",
              "      <td>Everyone</td>\n",
              "      <td>https://dev4phones.wordpress.com/licencia-de-uso/</td>\n",
              "      <td>True</td>\n",
              "      <td>False</td>\n",
              "      <td>False</td>\n",
              "      <td>2021-06-15 20:19:35</td>\n",
              "    </tr>\n",
              "    <tr>\n",
              "      <th>2</th>\n",
              "      <td>Vibook</td>\n",
              "      <td>com.doantiepvien.crm</td>\n",
              "      <td>Productivity</td>\n",
              "      <td>0.0</td>\n",
              "      <td>0.0</td>\n",
              "      <td>50+</td>\n",
              "      <td>50.0</td>\n",
              "      <td>58</td>\n",
              "      <td>True</td>\n",
              "      <td>0.0</td>\n",
              "      <td>...</td>\n",
              "      <td>NaN</td>\n",
              "      <td>vnacrewit@gmail.com</td>\n",
              "      <td>Aug 9, 2019</td>\n",
              "      <td>Aug 19, 2019</td>\n",
              "      <td>Everyone</td>\n",
              "      <td>https://www.vietnamairlines.com/vn/en/terms-an...</td>\n",
              "      <td>False</td>\n",
              "      <td>False</td>\n",
              "      <td>False</td>\n",
              "      <td>2021-06-15 20:19:35</td>\n",
              "    </tr>\n",
              "    <tr>\n",
              "      <th>3</th>\n",
              "      <td>Smart City Trichy Public Service Vehicles 17UC...</td>\n",
              "      <td>cst.stJoseph.ug17ucs548</td>\n",
              "      <td>Communication</td>\n",
              "      <td>5.0</td>\n",
              "      <td>5.0</td>\n",
              "      <td>10+</td>\n",
              "      <td>10.0</td>\n",
              "      <td>19</td>\n",
              "      <td>True</td>\n",
              "      <td>0.0</td>\n",
              "      <td>...</td>\n",
              "      <td>http://www.climatesmarttech.com/</td>\n",
              "      <td>climatesmarttech2@gmail.com</td>\n",
              "      <td>Sep 10, 2018</td>\n",
              "      <td>Oct 13, 2018</td>\n",
              "      <td>Everyone</td>\n",
              "      <td>NaN</td>\n",
              "      <td>True</td>\n",
              "      <td>False</td>\n",
              "      <td>False</td>\n",
              "      <td>2021-06-15 20:19:35</td>\n",
              "    </tr>\n",
              "    <tr>\n",
              "      <th>4</th>\n",
              "      <td>GROW.me</td>\n",
              "      <td>com.horodyski.grower</td>\n",
              "      <td>Tools</td>\n",
              "      <td>0.0</td>\n",
              "      <td>0.0</td>\n",
              "      <td>100+</td>\n",
              "      <td>100.0</td>\n",
              "      <td>478</td>\n",
              "      <td>True</td>\n",
              "      <td>0.0</td>\n",
              "      <td>...</td>\n",
              "      <td>http://www.horodyski.com.pl</td>\n",
              "      <td>rmilekhorodyski@gmail.com</td>\n",
              "      <td>Feb 21, 2020</td>\n",
              "      <td>Nov 12, 2018</td>\n",
              "      <td>Everyone</td>\n",
              "      <td>http://www.horodyski.com.pl</td>\n",
              "      <td>False</td>\n",
              "      <td>False</td>\n",
              "      <td>False</td>\n",
              "      <td>2021-06-15 20:19:35</td>\n",
              "    </tr>\n",
              "  </tbody>\n",
              "</table>\n",
              "<p>5 rows × 24 columns</p>\n",
              "</div>\n",
              "      <button class=\"colab-df-convert\" onclick=\"convertToInteractive('df-44420edb-ecdc-4828-9668-d5742920c4fe')\"\n",
              "              title=\"Convert this dataframe to an interactive table.\"\n",
              "              style=\"display:none;\">\n",
              "        \n",
              "  <svg xmlns=\"http://www.w3.org/2000/svg\" height=\"24px\"viewBox=\"0 0 24 24\"\n",
              "       width=\"24px\">\n",
              "    <path d=\"M0 0h24v24H0V0z\" fill=\"none\"/>\n",
              "    <path d=\"M18.56 5.44l.94 2.06.94-2.06 2.06-.94-2.06-.94-.94-2.06-.94 2.06-2.06.94zm-11 1L8.5 8.5l.94-2.06 2.06-.94-2.06-.94L8.5 2.5l-.94 2.06-2.06.94zm10 10l.94 2.06.94-2.06 2.06-.94-2.06-.94-.94-2.06-.94 2.06-2.06.94z\"/><path d=\"M17.41 7.96l-1.37-1.37c-.4-.4-.92-.59-1.43-.59-.52 0-1.04.2-1.43.59L10.3 9.45l-7.72 7.72c-.78.78-.78 2.05 0 2.83L4 21.41c.39.39.9.59 1.41.59.51 0 1.02-.2 1.41-.59l7.78-7.78 2.81-2.81c.8-.78.8-2.07 0-2.86zM5.41 20L4 18.59l7.72-7.72 1.47 1.35L5.41 20z\"/>\n",
              "  </svg>\n",
              "      </button>\n",
              "      \n",
              "  <style>\n",
              "    .colab-df-container {\n",
              "      display:flex;\n",
              "      flex-wrap:wrap;\n",
              "      gap: 12px;\n",
              "    }\n",
              "\n",
              "    .colab-df-convert {\n",
              "      background-color: #E8F0FE;\n",
              "      border: none;\n",
              "      border-radius: 50%;\n",
              "      cursor: pointer;\n",
              "      display: none;\n",
              "      fill: #1967D2;\n",
              "      height: 32px;\n",
              "      padding: 0 0 0 0;\n",
              "      width: 32px;\n",
              "    }\n",
              "\n",
              "    .colab-df-convert:hover {\n",
              "      background-color: #E2EBFA;\n",
              "      box-shadow: 0px 1px 2px rgba(60, 64, 67, 0.3), 0px 1px 3px 1px rgba(60, 64, 67, 0.15);\n",
              "      fill: #174EA6;\n",
              "    }\n",
              "\n",
              "    [theme=dark] .colab-df-convert {\n",
              "      background-color: #3B4455;\n",
              "      fill: #D2E3FC;\n",
              "    }\n",
              "\n",
              "    [theme=dark] .colab-df-convert:hover {\n",
              "      background-color: #434B5C;\n",
              "      box-shadow: 0px 1px 3px 1px rgba(0, 0, 0, 0.15);\n",
              "      filter: drop-shadow(0px 1px 2px rgba(0, 0, 0, 0.3));\n",
              "      fill: #FFFFFF;\n",
              "    }\n",
              "  </style>\n",
              "\n",
              "      <script>\n",
              "        const buttonEl =\n",
              "          document.querySelector('#df-44420edb-ecdc-4828-9668-d5742920c4fe button.colab-df-convert');\n",
              "        buttonEl.style.display =\n",
              "          google.colab.kernel.accessAllowed ? 'block' : 'none';\n",
              "\n",
              "        async function convertToInteractive(key) {\n",
              "          const element = document.querySelector('#df-44420edb-ecdc-4828-9668-d5742920c4fe');\n",
              "          const dataTable =\n",
              "            await google.colab.kernel.invokeFunction('convertToInteractive',\n",
              "                                                     [key], {});\n",
              "          if (!dataTable) return;\n",
              "\n",
              "          const docLinkHtml = 'Like what you see? Visit the ' +\n",
              "            '<a target=\"_blank\" href=https://colab.research.google.com/notebooks/data_table.ipynb>data table notebook</a>'\n",
              "            + ' to learn more about interactive tables.';\n",
              "          element.innerHTML = '';\n",
              "          dataTable['output_type'] = 'display_data';\n",
              "          await google.colab.output.renderOutput(dataTable, element);\n",
              "          const docLink = document.createElement('div');\n",
              "          docLink.innerHTML = docLinkHtml;\n",
              "          element.appendChild(docLink);\n",
              "        }\n",
              "      </script>\n",
              "    </div>\n",
              "  </div>\n",
              "  "
            ]
          },
          "metadata": {},
          "execution_count": 2
        }
      ],
      "source": [
        "df.head()"
      ]
    },
    {
      "cell_type": "code",
      "execution_count": null,
      "metadata": {
        "colab": {
          "base_uri": "https://localhost:8080/"
        },
        "id": "puG2sA0kv8mu",
        "outputId": "f464e511-b842-4e25-980c-0cdb8a31d834"
      },
      "outputs": [
        {
          "output_type": "execute_result",
          "data": {
            "text/plain": [
              "(17917, 24)"
            ]
          },
          "metadata": {},
          "execution_count": 3
        }
      ],
      "source": [
        "df.shape"
      ]
    },
    {
      "cell_type": "code",
      "execution_count": null,
      "metadata": {
        "colab": {
          "base_uri": "https://localhost:8080/",
          "height": 300
        },
        "id": "DYw3LC4ev8mw",
        "outputId": "d344fb9d-ba22-4974-a86a-dab14100da27"
      },
      "outputs": [
        {
          "output_type": "execute_result",
          "data": {
            "text/plain": [
              "             Rating  Rating Count  Minimum Installs  Maximum Installs  \\\n",
              "count  17756.000000  1.775600e+04      1.791600e+04      1.791700e+04   \n",
              "mean       2.214221  1.530566e+03      1.443138e+05      2.436198e+05   \n",
              "std        2.104701  2.621914e+04      7.587711e+06      1.222231e+07   \n",
              "min        0.000000  0.000000e+00      0.000000e+00      0.000000e+00   \n",
              "25%        0.000000  0.000000e+00      5.000000e+01      8.600000e+01   \n",
              "50%        3.000000  6.000000e+00      5.000000e+02      7.080000e+02   \n",
              "75%        4.300000  4.400000e+01      5.000000e+03      7.461000e+03   \n",
              "max        5.000000  1.888256e+06      1.000000e+09      1.616141e+09   \n",
              "\n",
              "              Price  \n",
              "count  17917.000000  \n",
              "mean       0.102952  \n",
              "std        1.757738  \n",
              "min        0.000000  \n",
              "25%        0.000000  \n",
              "50%        0.000000  \n",
              "75%        0.000000  \n",
              "max      119.990000  "
            ],
            "text/html": [
              "\n",
              "  <div id=\"df-c01b2421-67b6-4738-9562-9f9bcf99eaa6\">\n",
              "    <div class=\"colab-df-container\">\n",
              "      <div>\n",
              "<style scoped>\n",
              "    .dataframe tbody tr th:only-of-type {\n",
              "        vertical-align: middle;\n",
              "    }\n",
              "\n",
              "    .dataframe tbody tr th {\n",
              "        vertical-align: top;\n",
              "    }\n",
              "\n",
              "    .dataframe thead th {\n",
              "        text-align: right;\n",
              "    }\n",
              "</style>\n",
              "<table border=\"1\" class=\"dataframe\">\n",
              "  <thead>\n",
              "    <tr style=\"text-align: right;\">\n",
              "      <th></th>\n",
              "      <th>Rating</th>\n",
              "      <th>Rating Count</th>\n",
              "      <th>Minimum Installs</th>\n",
              "      <th>Maximum Installs</th>\n",
              "      <th>Price</th>\n",
              "    </tr>\n",
              "  </thead>\n",
              "  <tbody>\n",
              "    <tr>\n",
              "      <th>count</th>\n",
              "      <td>17756.000000</td>\n",
              "      <td>1.775600e+04</td>\n",
              "      <td>1.791600e+04</td>\n",
              "      <td>1.791700e+04</td>\n",
              "      <td>17917.000000</td>\n",
              "    </tr>\n",
              "    <tr>\n",
              "      <th>mean</th>\n",
              "      <td>2.214221</td>\n",
              "      <td>1.530566e+03</td>\n",
              "      <td>1.443138e+05</td>\n",
              "      <td>2.436198e+05</td>\n",
              "      <td>0.102952</td>\n",
              "    </tr>\n",
              "    <tr>\n",
              "      <th>std</th>\n",
              "      <td>2.104701</td>\n",
              "      <td>2.621914e+04</td>\n",
              "      <td>7.587711e+06</td>\n",
              "      <td>1.222231e+07</td>\n",
              "      <td>1.757738</td>\n",
              "    </tr>\n",
              "    <tr>\n",
              "      <th>min</th>\n",
              "      <td>0.000000</td>\n",
              "      <td>0.000000e+00</td>\n",
              "      <td>0.000000e+00</td>\n",
              "      <td>0.000000e+00</td>\n",
              "      <td>0.000000</td>\n",
              "    </tr>\n",
              "    <tr>\n",
              "      <th>25%</th>\n",
              "      <td>0.000000</td>\n",
              "      <td>0.000000e+00</td>\n",
              "      <td>5.000000e+01</td>\n",
              "      <td>8.600000e+01</td>\n",
              "      <td>0.000000</td>\n",
              "    </tr>\n",
              "    <tr>\n",
              "      <th>50%</th>\n",
              "      <td>3.000000</td>\n",
              "      <td>6.000000e+00</td>\n",
              "      <td>5.000000e+02</td>\n",
              "      <td>7.080000e+02</td>\n",
              "      <td>0.000000</td>\n",
              "    </tr>\n",
              "    <tr>\n",
              "      <th>75%</th>\n",
              "      <td>4.300000</td>\n",
              "      <td>4.400000e+01</td>\n",
              "      <td>5.000000e+03</td>\n",
              "      <td>7.461000e+03</td>\n",
              "      <td>0.000000</td>\n",
              "    </tr>\n",
              "    <tr>\n",
              "      <th>max</th>\n",
              "      <td>5.000000</td>\n",
              "      <td>1.888256e+06</td>\n",
              "      <td>1.000000e+09</td>\n",
              "      <td>1.616141e+09</td>\n",
              "      <td>119.990000</td>\n",
              "    </tr>\n",
              "  </tbody>\n",
              "</table>\n",
              "</div>\n",
              "      <button class=\"colab-df-convert\" onclick=\"convertToInteractive('df-c01b2421-67b6-4738-9562-9f9bcf99eaa6')\"\n",
              "              title=\"Convert this dataframe to an interactive table.\"\n",
              "              style=\"display:none;\">\n",
              "        \n",
              "  <svg xmlns=\"http://www.w3.org/2000/svg\" height=\"24px\"viewBox=\"0 0 24 24\"\n",
              "       width=\"24px\">\n",
              "    <path d=\"M0 0h24v24H0V0z\" fill=\"none\"/>\n",
              "    <path d=\"M18.56 5.44l.94 2.06.94-2.06 2.06-.94-2.06-.94-.94-2.06-.94 2.06-2.06.94zm-11 1L8.5 8.5l.94-2.06 2.06-.94-2.06-.94L8.5 2.5l-.94 2.06-2.06.94zm10 10l.94 2.06.94-2.06 2.06-.94-2.06-.94-.94-2.06-.94 2.06-2.06.94z\"/><path d=\"M17.41 7.96l-1.37-1.37c-.4-.4-.92-.59-1.43-.59-.52 0-1.04.2-1.43.59L10.3 9.45l-7.72 7.72c-.78.78-.78 2.05 0 2.83L4 21.41c.39.39.9.59 1.41.59.51 0 1.02-.2 1.41-.59l7.78-7.78 2.81-2.81c.8-.78.8-2.07 0-2.86zM5.41 20L4 18.59l7.72-7.72 1.47 1.35L5.41 20z\"/>\n",
              "  </svg>\n",
              "      </button>\n",
              "      \n",
              "  <style>\n",
              "    .colab-df-container {\n",
              "      display:flex;\n",
              "      flex-wrap:wrap;\n",
              "      gap: 12px;\n",
              "    }\n",
              "\n",
              "    .colab-df-convert {\n",
              "      background-color: #E8F0FE;\n",
              "      border: none;\n",
              "      border-radius: 50%;\n",
              "      cursor: pointer;\n",
              "      display: none;\n",
              "      fill: #1967D2;\n",
              "      height: 32px;\n",
              "      padding: 0 0 0 0;\n",
              "      width: 32px;\n",
              "    }\n",
              "\n",
              "    .colab-df-convert:hover {\n",
              "      background-color: #E2EBFA;\n",
              "      box-shadow: 0px 1px 2px rgba(60, 64, 67, 0.3), 0px 1px 3px 1px rgba(60, 64, 67, 0.15);\n",
              "      fill: #174EA6;\n",
              "    }\n",
              "\n",
              "    [theme=dark] .colab-df-convert {\n",
              "      background-color: #3B4455;\n",
              "      fill: #D2E3FC;\n",
              "    }\n",
              "\n",
              "    [theme=dark] .colab-df-convert:hover {\n",
              "      background-color: #434B5C;\n",
              "      box-shadow: 0px 1px 3px 1px rgba(0, 0, 0, 0.15);\n",
              "      filter: drop-shadow(0px 1px 2px rgba(0, 0, 0, 0.3));\n",
              "      fill: #FFFFFF;\n",
              "    }\n",
              "  </style>\n",
              "\n",
              "      <script>\n",
              "        const buttonEl =\n",
              "          document.querySelector('#df-c01b2421-67b6-4738-9562-9f9bcf99eaa6 button.colab-df-convert');\n",
              "        buttonEl.style.display =\n",
              "          google.colab.kernel.accessAllowed ? 'block' : 'none';\n",
              "\n",
              "        async function convertToInteractive(key) {\n",
              "          const element = document.querySelector('#df-c01b2421-67b6-4738-9562-9f9bcf99eaa6');\n",
              "          const dataTable =\n",
              "            await google.colab.kernel.invokeFunction('convertToInteractive',\n",
              "                                                     [key], {});\n",
              "          if (!dataTable) return;\n",
              "\n",
              "          const docLinkHtml = 'Like what you see? Visit the ' +\n",
              "            '<a target=\"_blank\" href=https://colab.research.google.com/notebooks/data_table.ipynb>data table notebook</a>'\n",
              "            + ' to learn more about interactive tables.';\n",
              "          element.innerHTML = '';\n",
              "          dataTable['output_type'] = 'display_data';\n",
              "          await google.colab.output.renderOutput(dataTable, element);\n",
              "          const docLink = document.createElement('div');\n",
              "          docLink.innerHTML = docLinkHtml;\n",
              "          element.appendChild(docLink);\n",
              "        }\n",
              "      </script>\n",
              "    </div>\n",
              "  </div>\n",
              "  "
            ]
          },
          "metadata": {},
          "execution_count": 4
        }
      ],
      "source": [
        "df.describe()"
      ]
    },
    {
      "cell_type": "code",
      "execution_count": null,
      "metadata": {
        "colab": {
          "base_uri": "https://localhost:8080/"
        },
        "id": "JSBYk5wFv8mx",
        "outputId": "ad5da762-0834-4b58-9507-c50d76205ab6"
      },
      "outputs": [
        {
          "output_type": "execute_result",
          "data": {
            "text/plain": [
              "App Name                0\n",
              "App Id                  0\n",
              "Category                0\n",
              "Rating                161\n",
              "Rating Count          161\n",
              "Installs                1\n",
              "Minimum Installs        1\n",
              "Maximum Installs        0\n",
              "Free                    0\n",
              "Price                   0\n",
              "Currency                1\n",
              "Size                    0\n",
              "Minimum Android        50\n",
              "Developer Id            0\n",
              "Developer Website    5853\n",
              "Developer Email         1\n",
              "Released              519\n",
              "Last Updated            1\n",
              "Content Rating          1\n",
              "Privacy Policy       3212\n",
              "Ad Supported            1\n",
              "In App Purchases        1\n",
              "Editors Choice          1\n",
              "Scraped Time            1\n",
              "dtype: int64"
            ]
          },
          "metadata": {},
          "execution_count": 5
        }
      ],
      "source": [
        "df.isnull().sum()"
      ]
    },
    {
      "cell_type": "code",
      "execution_count": null,
      "metadata": {
        "colab": {
          "base_uri": "https://localhost:8080/"
        },
        "id": "elWP0pB7v8mz",
        "outputId": "d86a167b-c41b-4812-cefe-638217792cc0"
      },
      "outputs": [
        {
          "output_type": "execute_result",
          "data": {
            "text/plain": [
              "App Name                0\n",
              "Developer Id            0\n",
              "Price                   0\n",
              "Free                    0\n",
              "Maximum Installs        0\n",
              "Size                    0\n",
              "Category                0\n",
              "App Id                  0\n",
              "Minimum Installs        1\n",
              "In App Purchases        1\n",
              "Ad Supported            1\n",
              "Content Rating          1\n",
              "Last Updated            1\n",
              "Developer Email         1\n",
              "Scraped Time            1\n",
              "Editors Choice          1\n",
              "Currency                1\n",
              "Installs                1\n",
              "Minimum Android        50\n",
              "Rating                161\n",
              "Rating Count          161\n",
              "Released              519\n",
              "Privacy Policy       3212\n",
              "Developer Website    5853\n",
              "dtype: int64"
            ]
          },
          "metadata": {},
          "execution_count": 6
        }
      ],
      "source": [
        "df.isnull().sum().sort_values(ascending = True)"
      ]
    },
    {
      "cell_type": "code",
      "execution_count": null,
      "metadata": {
        "colab": {
          "base_uri": "https://localhost:8080/"
        },
        "id": "ceATRxiuv8m0",
        "outputId": "22bfc177-c10f-44c2-ff02-6ffd85945be9"
      },
      "outputs": [
        {
          "output_type": "execute_result",
          "data": {
            "text/plain": [
              "Index(['App Name', 'App Id', 'Category', 'Rating', 'Rating Count', 'Installs',\n",
              "       'Minimum Installs', 'Maximum Installs', 'Free', 'Price', 'Currency',\n",
              "       'Size', 'Minimum Android', 'Developer Id', 'Developer Website',\n",
              "       'Developer Email', 'Released', 'Last Updated', 'Content Rating',\n",
              "       'Privacy Policy', 'Ad Supported', 'In App Purchases', 'Editors Choice',\n",
              "       'Scraped Time'],\n",
              "      dtype='object')"
            ]
          },
          "metadata": {},
          "execution_count": 7
        }
      ],
      "source": [
        "df.columns"
      ]
    },
    {
      "cell_type": "code",
      "execution_count": null,
      "metadata": {
        "colab": {
          "base_uri": "https://localhost:8080/"
        },
        "id": "gVTUZwHfv8m2",
        "outputId": "395a7e58-1974-434d-847b-bf4084dd4094"
      },
      "outputs": [
        {
          "output_type": "stream",
          "name": "stdout",
          "text": [
            "<class 'pandas.core.frame.DataFrame'>\n",
            "RangeIndex: 17917 entries, 0 to 17916\n",
            "Data columns (total 24 columns):\n",
            " #   Column             Non-Null Count  Dtype  \n",
            "---  ------             --------------  -----  \n",
            " 0   App Name           17917 non-null  object \n",
            " 1   App Id             17917 non-null  object \n",
            " 2   Category           17917 non-null  object \n",
            " 3   Rating             17756 non-null  float64\n",
            " 4   Rating Count       17756 non-null  float64\n",
            " 5   Installs           17916 non-null  object \n",
            " 6   Minimum Installs   17916 non-null  float64\n",
            " 7   Maximum Installs   17917 non-null  int64  \n",
            " 8   Free               17917 non-null  bool   \n",
            " 9   Price              17917 non-null  float64\n",
            " 10  Currency           17916 non-null  object \n",
            " 11  Size               17917 non-null  object \n",
            " 12  Minimum Android    17867 non-null  object \n",
            " 13  Developer Id       17917 non-null  object \n",
            " 14  Developer Website  12064 non-null  object \n",
            " 15  Developer Email    17916 non-null  object \n",
            " 16  Released           17398 non-null  object \n",
            " 17  Last Updated       17916 non-null  object \n",
            " 18  Content Rating     17916 non-null  object \n",
            " 19  Privacy Policy     14705 non-null  object \n",
            " 20  Ad Supported       17916 non-null  object \n",
            " 21  In App Purchases   17916 non-null  object \n",
            " 22  Editors Choice     17916 non-null  object \n",
            " 23  Scraped Time       17916 non-null  object \n",
            "dtypes: bool(1), float64(4), int64(1), object(18)\n",
            "memory usage: 3.2+ MB\n"
          ]
        }
      ],
      "source": [
        "df.info()"
      ]
    },
    {
      "cell_type": "code",
      "execution_count": null,
      "metadata": {
        "colab": {
          "base_uri": "https://localhost:8080/"
        },
        "id": "FY7lhYrmv8m5",
        "outputId": "82ea75fe-2dd9-4208-d253-38b997fe2765"
      },
      "outputs": [
        {
          "output_type": "stream",
          "name": "stdout",
          "text": [
            "Looking in indexes: https://pypi.org/simple, https://us-python.pkg.dev/colab-wheels/public/simple/\n",
            "Requirement already satisfied: missingno in /usr/local/lib/python3.8/dist-packages (0.5.1)\n",
            "Requirement already satisfied: matplotlib in /usr/local/lib/python3.8/dist-packages (from missingno) (3.2.2)\n",
            "Requirement already satisfied: numpy in /usr/local/lib/python3.8/dist-packages (from missingno) (1.21.6)\n",
            "Requirement already satisfied: scipy in /usr/local/lib/python3.8/dist-packages (from missingno) (1.7.3)\n",
            "Requirement already satisfied: seaborn in /usr/local/lib/python3.8/dist-packages (from missingno) (0.11.2)\n",
            "Requirement already satisfied: python-dateutil>=2.1 in /usr/local/lib/python3.8/dist-packages (from matplotlib->missingno) (2.8.2)\n",
            "Requirement already satisfied: kiwisolver>=1.0.1 in /usr/local/lib/python3.8/dist-packages (from matplotlib->missingno) (1.4.4)\n",
            "Requirement already satisfied: pyparsing!=2.0.4,!=2.1.2,!=2.1.6,>=2.0.1 in /usr/local/lib/python3.8/dist-packages (from matplotlib->missingno) (3.0.9)\n",
            "Requirement already satisfied: cycler>=0.10 in /usr/local/lib/python3.8/dist-packages (from matplotlib->missingno) (0.11.0)\n",
            "Requirement already satisfied: pandas>=0.23 in /usr/local/lib/python3.8/dist-packages (from seaborn->missingno) (1.3.5)\n",
            "Requirement already satisfied: pytz>=2017.3 in /usr/local/lib/python3.8/dist-packages (from pandas>=0.23->seaborn->missingno) (2022.7)\n",
            "Requirement already satisfied: six>=1.5 in /usr/local/lib/python3.8/dist-packages (from python-dateutil>=2.1->matplotlib->missingno) (1.15.0)\n"
          ]
        }
      ],
      "source": [
        "!pip install missingno"
      ]
    },
    {
      "cell_type": "code",
      "execution_count": null,
      "metadata": {
        "id": "JIKv_gPyv8m8"
      },
      "outputs": [],
      "source": [
        "import missingno as ms"
      ]
    },
    {
      "cell_type": "code",
      "execution_count": null,
      "metadata": {
        "colab": {
          "base_uri": "https://localhost:8080/",
          "height": 581
        },
        "id": "fCHG6nTEv8m-",
        "outputId": "7b067172-43a9-4497-f35f-452fcf2ed4a5"
      },
      "outputs": [
        {
          "output_type": "execute_result",
          "data": {
            "text/plain": [
              "<matplotlib.axes._subplots.AxesSubplot at 0x7f12ac174ee0>"
            ]
          },
          "metadata": {},
          "execution_count": 11
        },
        {
          "output_type": "display_data",
          "data": {
            "text/plain": [
              "<Figure size 1440x864 with 2 Axes>"
            ],
            "image/png": "[encoded data removed]"
          },
          "metadata": {
            "needs_background": "light"
          }
        }
      ],
      "source": [
        "ms.heatmap(df)"
      ]
    },
    {
      "cell_type": "code",
      "execution_count": null,
      "metadata": {
        "colab": {
          "base_uri": "https://localhost:8080/",
          "height": 435
        },
        "id": "P_ak1afev8nA",
        "outputId": "c3d0041a-0ccb-4a3f-ae22-9903d3be378f"
      },
      "outputs": [
        {
          "output_type": "execute_result",
          "data": {
            "text/plain": [
              "<matplotlib.axes._subplots.AxesSubplot at 0x7f12a97356a0>"
            ]
          },
          "metadata": {},
          "execution_count": 12
        },
        {
          "output_type": "display_data",
          "data": {
            "text/plain": [
              "<Figure size 1800x720 with 3 Axes>"
            ],
            "image/png": "[encoded data removed]"
          },
          "metadata": {
            "needs_background": "light"
          }
        }
      ],
      "source": [
        "ms.bar(df)"
      ]
    },
    {
      "cell_type": "code",
      "execution_count": null,
      "metadata": {
        "colab": {
          "base_uri": "https://localhost:8080/",
          "height": 415
        },
        "id": "YvRgJVrCv8nB",
        "outputId": "76f5ead3-2f7f-48bb-f135-6a5cbbf6b8a7"
      },
      "outputs": [
        {
          "output_type": "execute_result",
          "data": {
            "text/plain": [
              "<matplotlib.axes._subplots.AxesSubplot at 0x7f12a78d4700>"
            ]
          },
          "metadata": {},
          "execution_count": 13
        },
        {
          "output_type": "display_data",
          "data": {
            "text/plain": [
              "<Figure size 1800x720 with 2 Axes>"
            ],
            "image/png": "[encoded data removed]"
          },
          "metadata": {
            "needs_background": "light"
          }
        }
      ],
      "source": [
        "ms.matrix(df)"
      ]
    },
    {
      "cell_type": "code",
      "execution_count": null,
      "metadata": {
        "colab": {
          "base_uri": "https://localhost:8080/",
          "height": 418
        },
        "id": "kShXQicIv8nC",
        "outputId": "4711e429-d875-4e7b-9dc2-fad6ccabee91"
      },
      "outputs": [
        {
          "output_type": "execute_result",
          "data": {
            "text/plain": [
              "<matplotlib.axes._subplots.AxesSubplot at 0x7f12a7709700>"
            ]
          },
          "metadata": {},
          "execution_count": 14
        },
        {
          "output_type": "display_data",
          "data": {
            "text/plain": [
              "<Figure size 1440x720 with 1 Axes>"
            ],
            "image/png": "[encoded data removed]"
          },
          "metadata": {}
        }
      ],
      "source": [
        "missing_percentage = df.isnull().sum().sort_values(ascending = False) / len(df)\n",
        "missing_percentage = missing_percentage[missing_percentage != 0]\n",
        "import matplotlib\n",
        "import seaborn as sns\n",
        "sns.set_style(\"darkgrid\") #whitegrid\n",
        "matplotlib.rcParams['figure.figsize'] = (20,10)\n",
        "missing_percentage.plot(kind = 'barh')"
      ]
    },
    {
      "cell_type": "code",
      "execution_count": null,
      "metadata": {
        "id": "gz8Rr3ijv8nF"
      },
      "outputs": [],
      "source": [
        "df.dropna(subset = ['App Name', 'Size', 'Currency', 'Installs','Minimum Installs','Developer Id','Developer Email'], inplace = True)"
      ]
    },
    {
      "cell_type": "code",
      "execution_count": null,
      "metadata": {
        "colab": {
          "base_uri": "https://localhost:8080/"
        },
        "id": "TuAgUWKfv8nF",
        "outputId": "45bc4614-7cc0-4d42-ca46-71fa9fa5ed07"
      },
      "outputs": [
        {
          "output_type": "execute_result",
          "data": {
            "text/plain": [
              "App Name                0\n",
              "In App Purchases        0\n",
              "Ad Supported            0\n",
              "Content Rating          0\n",
              "Last Updated            0\n",
              "Developer Email         0\n",
              "Developer Id            0\n",
              "Editors Choice          0\n",
              "Currency                0\n",
              "Size                    0\n",
              "Free                    0\n",
              "Maximum Installs        0\n",
              "Minimum Installs        0\n",
              "Installs                0\n",
              "Category                0\n",
              "App Id                  0\n",
              "Price                   0\n",
              "Scraped Time            0\n",
              "Minimum Android        50\n",
              "Rating Count          160\n",
              "Rating                160\n",
              "Released              517\n",
              "Privacy Policy       3211\n",
              "Developer Website    5852\n",
              "dtype: int64"
            ]
          },
          "metadata": {},
          "execution_count": 16
        }
      ],
      "source": [
        "df.isnull().sum().sort_values(ascending=True)"
      ]
    },
    {
      "cell_type": "code",
      "execution_count": null,
      "metadata": {
        "colab": {
          "base_uri": "https://localhost:8080/"
        },
        "id": "KhW3BY4Vv8nG",
        "outputId": "f3d05d55-b9a3-44d2-c4ef-62c06390954c"
      },
      "outputs": [
        {
          "output_type": "execute_result",
          "data": {
            "text/plain": [
              "True"
            ]
          },
          "metadata": {},
          "execution_count": 17
        }
      ],
      "source": [
        "boolean = df['App Name'].duplicated().any()\n",
        "boolean"
      ]
    },
    {
      "cell_type": "code",
      "execution_count": null,
      "metadata": {
        "colab": {
          "base_uri": "https://localhost:8080/"
        },
        "id": "c0H0r1N1v8nJ",
        "outputId": "53f2ad43-783d-4cc9-8de4-9d32c51edd25"
      },
      "outputs": [
        {
          "output_type": "execute_result",
          "data": {
            "text/plain": [
              "BMI Calculator                 4\n",
              "Gallery                        3\n",
              "File Manager                   2\n",
              "FreeCell                       2\n",
              "Zero                           2\n",
              "                              ..\n",
              "Gardroid - Vegetable Garden    1\n",
              "Rafiki Cabs Driver             1\n",
              "Living Room Ministries Intl    1\n",
              "Rádio Estação 104 FM        1\n",
              "Link - What's your story?      1\n",
              "Name: App Name, Length: 17876, dtype: int64"
            ]
          },
          "metadata": {},
          "execution_count": 18
        }
      ],
      "source": [
        "df['App Name'].value_counts()"
      ]
    },
    {
      "cell_type": "code",
      "execution_count": null,
      "metadata": {
        "colab": {
          "base_uri": "https://localhost:8080/"
        },
        "id": "Z3UM57FJv8nL",
        "outputId": "dfe92370-561a-4b66-813b-ec2e236946d7"
      },
      "outputs": [
        {
          "output_type": "execute_result",
          "data": {
            "text/plain": [
              "False"
            ]
          },
          "metadata": {},
          "execution_count": 19
        }
      ],
      "source": [
        "df['App Id'].duplicated().any()"
      ]
    },
    {
      "cell_type": "code",
      "execution_count": null,
      "metadata": {
        "colab": {
          "base_uri": "https://localhost:8080/"
        },
        "id": "SJhDyusLv8nN",
        "outputId": "3c2d7afb-f64a-42e4-f06d-e8bc7ff2e3b7"
      },
      "outputs": [
        {
          "output_type": "execute_result",
          "data": {
            "text/plain": [
              "com.ishakwe.gakondo                    1\n",
              "gplx.hadsat.dua                        1\n",
              "com.radioenvivo.republicadominicana    1\n",
              "com.bnagames.boxrace                   1\n",
              "com.Vreality.TataQuispe                1\n",
              "                                      ..\n",
              "com.funcell.shipinbottle               1\n",
              "jp.kino.CorE                           1\n",
              "com.wizaxe.spvavoyage                  1\n",
              "com.merge.auscar                       1\n",
              "com.bfamz.link                         1\n",
              "Name: App Id, Length: 17915, dtype: int64"
            ]
          },
          "metadata": {},
          "execution_count": 20
        }
      ],
      "source": [
        "df['App Id'].value_counts()"
      ]
    },
    {
      "cell_type": "code",
      "execution_count": null,
      "metadata": {
        "colab": {
          "base_uri": "https://localhost:8080/"
        },
        "id": "lZLX7jd1v8nO",
        "outputId": "8517289f-7cfc-4499-f60b-48c80d285dcb"
      },
      "outputs": [
        {
          "output_type": "execute_result",
          "data": {
            "text/plain": [
              "array(['10+', '5,000+', '50+', '100+', '1,000+', '500+', '50,000+',\n",
              "       '10,000+', '1+', '500,000+', '100,000+', '5+', '10,000,000+',\n",
              "       '1,000,000+', '5,000,000+', '0+', '100,000,000+', '50,000,000+',\n",
              "       '1,000,000,000+'], dtype=object)"
            ]
          },
          "metadata": {},
          "execution_count": 21
        }
      ],
      "source": [
        "df['Installs'].unique()"
      ]
    },
    {
      "cell_type": "code",
      "execution_count": null,
      "metadata": {
        "id": "ahyN6m_Uv8nP"
      },
      "outputs": [],
      "source": [
        "df['Installs'] = df['Installs'].str.split('+').str[0]\n",
        "df['Installs'].replace(',','', regex=True, inplace=True)\n",
        "df['Installs'] = df['Installs'].astype(np.int64) "
      ]
    },
    {
      "cell_type": "code",
      "execution_count": null,
      "metadata": {
        "colab": {
          "base_uri": "https://localhost:8080/"
        },
        "id": "O7_gTMZUv8nQ",
        "outputId": "3c25cf32-8014-4853-efe2-2af1759c1d7f"
      },
      "outputs": [
        {
          "output_type": "execute_result",
          "data": {
            "text/plain": [
              "array([        10,       5000,         50,        100,       1000,\n",
              "              500,      50000,      10000,          1,     500000,\n",
              "           100000,          5,   10000000,    1000000,    5000000,\n",
              "                0,  100000000,   50000000, 1000000000])"
            ]
          },
          "metadata": {},
          "execution_count": 23
        }
      ],
      "source": [
        "df['Installs'].unique()"
      ]
    },
    {
      "cell_type": "code",
      "execution_count": null,
      "metadata": {
        "colab": {
          "base_uri": "https://localhost:8080/"
        },
        "id": "vcMUN77Ev8nR",
        "outputId": "61e49691-a4aa-4096-a298-4f14e49c33a6"
      },
      "outputs": [
        {
          "output_type": "execute_result",
          "data": {
            "text/plain": [
              "array(['USD', 'XXX', 'CAD', 'EUR', 'INR', 'VND', 'GBP', 'BRL'],\n",
              "      dtype=object)"
            ]
          },
          "metadata": {},
          "execution_count": 24
        }
      ],
      "source": [
        "df['Currency'].unique()"
      ]
    },
    {
      "cell_type": "code",
      "execution_count": null,
      "metadata": {
        "colab": {
          "base_uri": "https://localhost:8080/"
        },
        "id": "4Bo2I5dhv8nR",
        "outputId": "6d085215-b973-4383-9f46-d4f7c1167bbb"
      },
      "outputs": [
        {
          "output_type": "execute_result",
          "data": {
            "text/plain": [
              "array(['10M', '2.9M', '3.7M', '1.8M', '6.2M', '46M', '2.5M', '16M',\n",
              "       '1.3M', '3.5M', '51M', '2.7M', '7.6M', '15M', '29M', '12M', '2.0M',\n",
              "       '70M', '11M', '24M', '1.4M', '20M', '2.4M', '25M', '21M', '36M',\n",
              "       '6.1M', '2.6M', '8.9M', '3.9M', '30M', '26M', '4.9M', '4.3M',\n",
              "       '4.8M', '4.6M', '2.8M', '38M', '5.1M', '147M', '33M', '2.2M',\n",
              "       '7.1M', '27M', '18M', '7.7M', '32M', '19M', '39M', '31M', '1.2M',\n",
              "       '3.1M', '3.2M', '42M', '22M', '4.1M', '50M', '5.5M', '127k',\n",
              "       '8.4M', '41M', '49M', '7.0M', '4.7M', '43M', '5.4M', '3.0M',\n",
              "       '1.6M', '2.1M', '37M', '3.6M', '9.0M', '9.9M', '67M', '28M',\n",
              "       'Varies with device', '7.9M', '3.3M', '6.0M', '5.7M', '9.8M',\n",
              "       '5.0M', '1.7M', '7.4M', '1.9M', '3.8M', '6.4M', '8.1M', '6.5M',\n",
              "       '4.4M', '45M', '7.2M', '13M', '6.9M', '60M', '6.6M', '4.0M', '17M',\n",
              "       '4.2M', '58M', '93M', '9.7M', '23M', '52M', '5.6M', '48M', '1.5M',\n",
              "       '8.5M', '54M', '62M', '133M', '64M', '152M', '136M', '9.5M',\n",
              "       '4.5M', '40M', '531k', '8.0M', '2.3M', '35M', '83M', '7.3M',\n",
              "       '6.7M', '9.4M', '69M', '7.5M', '343k', '84M', '5.9M', '6.3M',\n",
              "       '1,018k', '34M', '63M', '3.4M', '57M', '14M', '86M', '9.2M',\n",
              "       '142M', '6.8M', '9.1M', '9.6M', '44M', '1.0M', '886k', '53M',\n",
              "       '91M', '61M', '5.2M', '188k', '5.3M', '8.3M', '8.2M', '79M',\n",
              "       '9.3M', '47M', '107M', '8.6M', '95M', '56M', '5.8M', '71M', '78M',\n",
              "       '7.8M', '59M', '72M', '8.7M', '200k', '92k', '75M', '966k', '844k',\n",
              "       '963k', '151M', '274k', '145M', '8.8M', '82M', '10.0M', '66M',\n",
              "       '240k', '101M', '76M', '96M', '139M', '212k', '101k', '125M',\n",
              "       '111M', '1.1M', '116M', '94M', '99M', '194k', '89M', '55M', '506k',\n",
              "       '85M', '98M', '122M', '88M', '77M', '138k', '659k', '880k', '106M',\n",
              "       '87M', '230k', '97M', '989k', '453k', '201M', '28k', '562k',\n",
              "       '745k', '68M', '118M', '357k', '74M', '600k', '22k', '73M', '144M',\n",
              "       '33k', '250M', '359k', '81M', '112M', '298k', '351k', '1,007k',\n",
              "       '145k', '936k', '65M', '25k', '986k', '512k', '102M', '842k',\n",
              "       '962k', '497k', '321k', '565k', '946k', '222k', '998k', '82k',\n",
              "       '105M', '257k', '390k', '18k', '100M', '727k', '176k', '113M',\n",
              "       '531M', '120M', '229k', '141M', '130M', '92M', '90M', '150k',\n",
              "       '150M', '136k', '80M', '156M', '449k', '121M', '945k', '969k',\n",
              "       '329k', '243k', '143M', '574k', '261k', '917k', '742k', '137M',\n",
              "       '159M', '760k', '48k', '815k', '629k', '422M', '77k', '393k',\n",
              "       '895k', '813k', '149M', '266k', '134M', '786k', '687k', '251k',\n",
              "       '259k', '221k', '803k', '224k', '898k', '66k', '128M', '476k',\n",
              "       '253k', '124k', '214k', '24k', '230M', '163k', '1,019k', '228k',\n",
              "       '420k', '103M', '631k', '990k', '801k', '57k', '389k', '563k',\n",
              "       '205k', '21k', '146M', '567k', '344k', '94k', '750k', '407k',\n",
              "       '114M', '912k', '138M', '889k', '445k', '117M', '571k', '810k',\n",
              "       '318k', '50k', '805k', '110M', '130k', '743k', '158M', '894k',\n",
              "       '808k', '148M', '127M', '588k', '269k', '738k', '109M', '382k',\n",
              "       '501k', '282k', '153M', '260k', '405k', '543k', '924k', '162M',\n",
              "       '837k', '823k', '826k', '244k', '663k', '119M', '379k', '132M',\n",
              "       '595k', '234k', '165M', '104M', '761k', '872k', '143k', '528k',\n",
              "       '774k', '648k', '123k', '879k', '433k', '461k', '818k', '140M',\n",
              "       '877k', '505k', '901k', '170k', '717k', '106k', '255k', '1,014k',\n",
              "       '477k', '316k', '216k', '123M', '723k', '935k', '124M', '1,020k',\n",
              "       '173M', '293M', '273k', '256k', '866k', '174M', '918k', '647k',\n",
              "       '154k', '157M', '286k', '395k', '573k', '140k', '315k', '827k',\n",
              "       '906k', '492k', '934k', '790k', '862k', '135M', '167M', '184M',\n",
              "       '755k', '385k', '737k', '86k', '177k', '335M', '79k', '228M',\n",
              "       '114k', '188M', '429k', '650k', '980k', '939k', '988k', '129M',\n",
              "       '198k', '519k', '762k', '620k', '724k', '132k', '591k', '129k',\n",
              "       '154M', '1,002k', '959k', '444k', '757k', '160M', '495k', '164M',\n",
              "       '920k', '15k', '721k', '977k', '665k', '941k', '108M', '539k',\n",
              "       '12k', '479k', '89k', '510M', '277k', '973k', '697k', '67k',\n",
              "       '667k', '346k', '199k', '511k', '617k', '954k', '474k', '548k',\n",
              "       '278k', '515k', '131M', '678k', '36k', '483k', '69k', '147k',\n",
              "       '876k', '1,022k', '850k', '645k', '394k', '30k', '184k'],\n",
              "      dtype=object)"
            ]
          },
          "metadata": {},
          "execution_count": 25
        }
      ],
      "source": [
        "df['Size'].unique()"
      ]
    },
    {
      "cell_type": "code",
      "execution_count": null,
      "metadata": {
        "id": "EKGVfR9Nv8nS"
      },
      "outputs": [],
      "source": [
        "df['Size'] = df['Size'].apply(lambda x:str(x).replace('M','')  if 'M' in str(x) else x)"
      ]
    },
    {
      "cell_type": "code",
      "execution_count": null,
      "metadata": {
        "id": "YANQB0jev8nS"
      },
      "outputs": [],
      "source": [
        "df['Size'] = df['Size'].apply(lambda x:str(x).replace(',','.') if ',' in str(x) else x)"
      ]
    },
    {
      "cell_type": "code",
      "execution_count": null,
      "metadata": {
        "id": "8eJQEYGpv8nT"
      },
      "outputs": [],
      "source": [
        "df['Size'] = df['Size'].apply(lambda x:float(str(x).replace('k',''))/1000 if 'k' in str(x) else x)"
      ]
    },
    {
      "cell_type": "code",
      "execution_count": null,
      "metadata": {
        "id": "DbR2QHixv8nU"
      },
      "outputs": [],
      "source": [
        "df['Size'] = df['Size'].apply(lambda x: str(x).replace('Varies with device','0') if 'Varies with device' in str(x) else(x))"
      ]
    },
    {
      "cell_type": "code",
      "execution_count": null,
      "metadata": {
        "id": "_LJpBMvvv8nV"
      },
      "outputs": [],
      "source": [
        "df['Size'] = df['Size'].apply(lambda x:float(x))"
      ]
    },
    {
      "cell_type": "code",
      "execution_count": null,
      "metadata": {
        "id": "mj_9ILhTv8nV"
      },
      "outputs": [],
      "source": [
        "df['Size'] = df['Size'].apply(lambda x:float(str(x).replace('G',''))*1000 if 'G' in str(x) else x)"
      ]
    },
    {
      "cell_type": "code",
      "execution_count": null,
      "metadata": {
        "id": "v_KOKyR3v8nW"
      },
      "outputs": [],
      "source": [
        "df['Size'] = df['Size'].apply(lambda x:float(x))"
      ]
    },
    {
      "cell_type": "code",
      "execution_count": null,
      "metadata": {
        "colab": {
          "base_uri": "https://localhost:8080/"
        },
        "id": "s6iwAgUJv8nW",
        "outputId": "763118b4-26a3-4290-edcc-0c6bcca52fb2"
      },
      "outputs": [
        {
          "output_type": "execute_result",
          "data": {
            "text/plain": [
              "dtype('float64')"
            ]
          },
          "metadata": {},
          "execution_count": 34
        }
      ],
      "source": [
        "df.dtypes['Size']"
      ]
    },
    {
      "cell_type": "code",
      "execution_count": null,
      "metadata": {
        "colab": {
          "base_uri": "https://localhost:8080/"
        },
        "id": "5_8S4cGDv8nX",
        "outputId": "7205d8af-a741-4008-bb2f-b8fbc6561086"
      },
      "outputs": [
        {
          "output_type": "execute_result",
          "data": {
            "text/plain": [
              "0          7.1 and up\n",
              "1          5.0 and up\n",
              "2        4.0.3 and up\n",
              "3        4.0.3 and up\n",
              "4          4.1 and up\n",
              "             ...     \n",
              "17911    4.0.3 and up\n",
              "17912      6.0 and up\n",
              "17913      4.4 and up\n",
              "17914      7.0 and up\n",
              "17915      4.2 and up\n",
              "Name: Minimum Android, Length: 17915, dtype: object"
            ]
          },
          "metadata": {},
          "execution_count": 35
        }
      ],
      "source": [
        "df['Minimum Android']"
      ]
    },
    {
      "cell_type": "code",
      "execution_count": null,
      "metadata": {
        "colab": {
          "base_uri": "https://localhost:8080/"
        },
        "id": "lurb3iAXv8nY",
        "outputId": "75d6cb2f-2362-4ad1-a546-c79770e36258"
      },
      "outputs": [
        {
          "output_type": "execute_result",
          "data": {
            "text/plain": [
              "0        Everyone\n",
              "1        Everyone\n",
              "2        Everyone\n",
              "3        Everyone\n",
              "4        Everyone\n",
              "           ...   \n",
              "17911        Teen\n",
              "17912    Everyone\n",
              "17913    Everyone\n",
              "17914    Everyone\n",
              "17915        Teen\n",
              "Name: Content Rating, Length: 17915, dtype: object"
            ]
          },
          "metadata": {},
          "execution_count": 36
        }
      ],
      "source": [
        "df['Content Rating']"
      ]
    },
    {
      "cell_type": "code",
      "execution_count": null,
      "metadata": {
        "colab": {
          "base_uri": "https://localhost:8080/"
        },
        "id": "QOVeDAXPv8nb",
        "outputId": "49f07414-c052-483d-8ee3-e51b6ae4236c"
      },
      "outputs": [
        {
          "output_type": "execute_result",
          "data": {
            "text/plain": [
              "0        Feb 26, 2020\n",
              "1        May 21, 2020\n",
              "2         Aug 9, 2019\n",
              "3        Sep 10, 2018\n",
              "4        Feb 21, 2020\n",
              "             ...     \n",
              "17911    Dec 11, 2017\n",
              "17912    Dec 12, 2014\n",
              "17913     Mar 6, 2019\n",
              "17914     Feb 5, 2021\n",
              "17915     Apr 7, 2019\n",
              "Name: Released, Length: 17915, dtype: object"
            ]
          },
          "metadata": {},
          "execution_count": 37
        }
      ],
      "source": [
        "df['Released']"
      ]
    },
    {
      "cell_type": "code",
      "execution_count": null,
      "metadata": {
        "colab": {
          "base_uri": "https://localhost:8080/"
        },
        "id": "LBQyS9W3v8nc",
        "outputId": "ef8abb77-e9bc-447f-f7d3-778e78f4a4b4"
      },
      "outputs": [
        {
          "output_type": "execute_result",
          "data": {
            "text/plain": [
              "0        Feb 26, 2020\n",
              "1        May 06, 2021\n",
              "2        Aug 19, 2019\n",
              "3        Oct 13, 2018\n",
              "4        Nov 12, 2018\n",
              "             ...     \n",
              "17911    Dec 17, 2017\n",
              "17912    Mar 13, 2020\n",
              "17913    Mar 18, 2019\n",
              "17914    Feb 05, 2021\n",
              "17915    May 21, 2019\n",
              "Name: Last Updated, Length: 17915, dtype: object"
            ]
          },
          "metadata": {},
          "execution_count": 38
        }
      ],
      "source": [
        "df['Last Updated']"
      ]
    },
    {
      "cell_type": "code",
      "execution_count": null,
      "metadata": {
        "colab": {
          "base_uri": "https://localhost:8080/"
        },
        "id": "iJql8HMgv8nd",
        "outputId": "9f83241b-6e70-4387-e393-fb97f7d3b0d9"
      },
      "outputs": [
        {
          "output_type": "execute_result",
          "data": {
            "text/plain": [
              "0                       https://beniyizibyose.tk/projects/\n",
              "1        https://dev4phones.wordpress.com/licencia-de-uso/\n",
              "2        https://www.vietnamairlines.com/vn/en/terms-an...\n",
              "3                                                      NaN\n",
              "4                              http://www.horodyski.com.pl\n",
              "                               ...                        \n",
              "17911                https://ingo-schendel.de/datenschutz/\n",
              "17912    http://documentation.parentlink.net/privacy-po...\n",
              "17913                                                  NaN\n",
              "17914              https://www.winuall.com/privacy-policy/\n",
              "17915    https://www.freeprivacypolicy.com/privacy/view...\n",
              "Name: Privacy Policy, Length: 17915, dtype: object"
            ]
          },
          "metadata": {},
          "execution_count": 39
        }
      ],
      "source": [
        "df['Privacy Policy']"
      ]
    },
    {
      "cell_type": "code",
      "execution_count": null,
      "metadata": {
        "colab": {
          "base_uri": "https://localhost:8080/"
        },
        "id": "Xj6MxVXuv8nd",
        "outputId": "cf52d38e-8048-43eb-c6ed-aac4a25fe1cf"
      },
      "outputs": [
        {
          "output_type": "execute_result",
          "data": {
            "text/plain": [
              "0        2021-06-15 20:19:35\n",
              "1        2021-06-15 20:19:35\n",
              "2        2021-06-15 20:19:35\n",
              "3        2021-06-15 20:19:35\n",
              "4        2021-06-15 20:19:35\n",
              "                ...         \n",
              "17911    2021-06-15 20:37:03\n",
              "17912    2021-06-15 20:37:03\n",
              "17913    2021-06-15 20:37:03\n",
              "17914    2021-06-15 20:37:03\n",
              "17915    2021-06-15 20:37:03\n",
              "Name: Scraped Time, Length: 17915, dtype: object"
            ]
          },
          "metadata": {},
          "execution_count": 40
        }
      ],
      "source": [
        "df['Scraped Time']"
      ]
    },
    {
      "cell_type": "code",
      "execution_count": null,
      "metadata": {
        "id": "eWNoWRuwv8ne"
      },
      "outputs": [],
      "source": [
        "df['Type'] = np.where(df['Free'] == True, 'Free','Paid')\n",
        "df.drop(['Free'], axis = 1, inplace=True)"
      ]
    },
    {
      "cell_type": "code",
      "execution_count": null,
      "metadata": {
        "colab": {
          "base_uri": "https://localhost:8080/",
          "height": 361
        },
        "id": "K0js6dc0v8ne",
        "outputId": "b14f9c1c-34bd-4638-90a3-5167d871e325"
      },
      "outputs": [
        {
          "output_type": "execute_result",
          "data": {
            "text/plain": [
              "             Rating  Rating Count      Installs  Minimum Installs  \\\n",
              "count  17755.000000  1.775500e+04  1.791500e+04      1.791500e+04   \n",
              "mean       2.214345  1.530652e+03  1.443218e+05      1.443218e+05   \n",
              "std        2.104695  2.621988e+04  7.587923e+06      7.587923e+06   \n",
              "min        0.000000  0.000000e+00  0.000000e+00      0.000000e+00   \n",
              "25%        0.000000  0.000000e+00  5.000000e+01      5.000000e+01   \n",
              "50%        3.000000  6.000000e+00  5.000000e+02      5.000000e+02   \n",
              "75%        4.300000  4.400000e+01  5.000000e+03      5.000000e+03   \n",
              "max        5.000000  1.888256e+06  1.000000e+09      1.000000e+09   \n",
              "\n",
              "       Maximum Installs         Price          Size  \n",
              "count      1.791500e+04  17915.000000  17915.000000  \n",
              "mean       2.436468e+05      0.102964     18.493655  \n",
              "std        1.222299e+07      1.757836     23.854330  \n",
              "min        0.000000e+00      0.000000      0.000000  \n",
              "25%        8.600000e+01      0.000000      4.500000  \n",
              "50%        7.080000e+02      0.000000      9.700000  \n",
              "75%        7.471000e+03      0.000000     24.000000  \n",
              "max        1.616141e+09    119.990000    531.000000  "
            ],
            "text/html": [
              "\n",
              "  <div id=\"df-3f121506-29ed-46b1-a7ea-660d018724f2\">\n",
              "    <div class=\"colab-df-container\">\n",
              "      <div>\n",
              "<style scoped>\n",
              "    .dataframe tbody tr th:only-of-type {\n",
              "        vertical-align: middle;\n",
              "    }\n",
              "\n",
              "    .dataframe tbody tr th {\n",
              "        vertical-align: top;\n",
              "    }\n",
              "\n",
              "    .dataframe thead th {\n",
              "        text-align: right;\n",
              "    }\n",
              "</style>\n",
              "<table border=\"1\" class=\"dataframe\">\n",
              "  <thead>\n",
              "    <tr style=\"text-align: right;\">\n",
              "      <th></th>\n",
              "      <th>Rating</th>\n",
              "      <th>Rating Count</th>\n",
              "      <th>Installs</th>\n",
              "      <th>Minimum Installs</th>\n",
              "      <th>Maximum Installs</th>\n",
              "      <th>Price</th>\n",
              "      <th>Size</th>\n",
              "    </tr>\n",
              "  </thead>\n",
              "  <tbody>\n",
              "    <tr>\n",
              "      <th>count</th>\n",
              "      <td>17755.000000</td>\n",
              "      <td>1.775500e+04</td>\n",
              "      <td>1.791500e+04</td>\n",
              "      <td>1.791500e+04</td>\n",
              "      <td>1.791500e+04</td>\n",
              "      <td>17915.000000</td>\n",
              "      <td>17915.000000</td>\n",
              "    </tr>\n",
              "    <tr>\n",
              "      <th>mean</th>\n",
              "      <td>2.214345</td>\n",
              "      <td>1.530652e+03</td>\n",
              "      <td>1.443218e+05</td>\n",
              "      <td>1.443218e+05</td>\n",
              "      <td>2.436468e+05</td>\n",
              "      <td>0.102964</td>\n",
              "      <td>18.493655</td>\n",
              "    </tr>\n",
              "    <tr>\n",
              "      <th>std</th>\n",
              "      <td>2.104695</td>\n",
              "      <td>2.621988e+04</td>\n",
              "      <td>7.587923e+06</td>\n",
              "      <td>7.587923e+06</td>\n",
              "      <td>1.222299e+07</td>\n",
              "      <td>1.757836</td>\n",
              "      <td>23.854330</td>\n",
              "    </tr>\n",
              "    <tr>\n",
              "      <th>min</th>\n",
              "      <td>0.000000</td>\n",
              "      <td>0.000000e+00</td>\n",
              "      <td>0.000000e+00</td>\n",
              "      <td>0.000000e+00</td>\n",
              "      <td>0.000000e+00</td>\n",
              "      <td>0.000000</td>\n",
              "      <td>0.000000</td>\n",
              "    </tr>\n",
              "    <tr>\n",
              "      <th>25%</th>\n",
              "      <td>0.000000</td>\n",
              "      <td>0.000000e+00</td>\n",
              "      <td>5.000000e+01</td>\n",
              "      <td>5.000000e+01</td>\n",
              "      <td>8.600000e+01</td>\n",
              "      <td>0.000000</td>\n",
              "      <td>4.500000</td>\n",
              "    </tr>\n",
              "    <tr>\n",
              "      <th>50%</th>\n",
              "      <td>3.000000</td>\n",
              "      <td>6.000000e+00</td>\n",
              "      <td>5.000000e+02</td>\n",
              "      <td>5.000000e+02</td>\n",
              "      <td>7.080000e+02</td>\n",
              "      <td>0.000000</td>\n",
              "      <td>9.700000</td>\n",
              "    </tr>\n",
              "    <tr>\n",
              "      <th>75%</th>\n",
              "      <td>4.300000</td>\n",
              "      <td>4.400000e+01</td>\n",
              "      <td>5.000000e+03</td>\n",
              "      <td>5.000000e+03</td>\n",
              "      <td>7.471000e+03</td>\n",
              "      <td>0.000000</td>\n",
              "      <td>24.000000</td>\n",
              "    </tr>\n",
              "    <tr>\n",
              "      <th>max</th>\n",
              "      <td>5.000000</td>\n",
              "      <td>1.888256e+06</td>\n",
              "      <td>1.000000e+09</td>\n",
              "      <td>1.000000e+09</td>\n",
              "      <td>1.616141e+09</td>\n",
              "      <td>119.990000</td>\n",
              "      <td>531.000000</td>\n",
              "    </tr>\n",
              "  </tbody>\n",
              "</table>\n",
              "</div>\n",
              "      <button class=\"colab-df-convert\" onclick=\"convertToInteractive('df-3f121506-29ed-46b1-a7ea-660d018724f2')\"\n",
              "              title=\"Convert this dataframe to an interactive table.\"\n",
              "              style=\"display:none;\">\n",
              "        \n",
              "  <svg xmlns=\"http://www.w3.org/2000/svg\" height=\"24px\"viewBox=\"0 0 24 24\"\n",
              "       width=\"24px\">\n",
              "    <path d=\"M0 0h24v24H0V0z\" fill=\"none\"/>\n",
              "    <path d=\"M18.56 5.44l.94 2.06.94-2.06 2.06-.94-2.06-.94-.94-2.06-.94 2.06-2.06.94zm-11 1L8.5 8.5l.94-2.06 2.06-.94-2.06-.94L8.5 2.5l-.94 2.06-2.06.94zm10 10l.94 2.06.94-2.06 2.06-.94-2.06-.94-.94-2.06-.94 2.06-2.06.94z\"/><path d=\"M17.41 7.96l-1.37-1.37c-.4-.4-.92-.59-1.43-.59-.52 0-1.04.2-1.43.59L10.3 9.45l-7.72 7.72c-.78.78-.78 2.05 0 2.83L4 21.41c.39.39.9.59 1.41.59.51 0 1.02-.2 1.41-.59l7.78-7.78 2.81-2.81c.8-.78.8-2.07 0-2.86zM5.41 20L4 18.59l7.72-7.72 1.47 1.35L5.41 20z\"/>\n",
              "  </svg>\n",
              "      </button>\n",
              "      \n",
              "  <style>\n",
              "    .colab-df-container {\n",
              "      display:flex;\n",
              "      flex-wrap:wrap;\n",
              "      gap: 12px;\n",
              "    }\n",
              "\n",
              "    .colab-df-convert {\n",
              "      background-color: #E8F0FE;\n",
              "      border: none;\n",
              "      border-radius: 50%;\n",
              "      cursor: pointer;\n",
              "      display: none;\n",
              "      fill: #1967D2;\n",
              "      height: 32px;\n",
              "      padding: 0 0 0 0;\n",
              "      width: 32px;\n",
              "    }\n",
              "\n",
              "    .colab-df-convert:hover {\n",
              "      background-color: #E2EBFA;\n",
              "      box-shadow: 0px 1px 2px rgba(60, 64, 67, 0.3), 0px 1px 3px 1px rgba(60, 64, 67, 0.15);\n",
              "      fill: #174EA6;\n",
              "    }\n",
              "\n",
              "    [theme=dark] .colab-df-convert {\n",
              "      background-color: #3B4455;\n",
              "      fill: #D2E3FC;\n",
              "    }\n",
              "\n",
              "    [theme=dark] .colab-df-convert:hover {\n",
              "      background-color: #434B5C;\n",
              "      box-shadow: 0px 1px 3px 1px rgba(0, 0, 0, 0.15);\n",
              "      filter: drop-shadow(0px 1px 2px rgba(0, 0, 0, 0.3));\n",
              "      fill: #FFFFFF;\n",
              "    }\n",
              "  </style>\n",
              "\n",
              "      <script>\n",
              "        const buttonEl =\n",
              "          document.querySelector('#df-3f121506-29ed-46b1-a7ea-660d018724f2 button.colab-df-convert');\n",
              "        buttonEl.style.display =\n",
              "          google.colab.kernel.accessAllowed ? 'block' : 'none';\n",
              "\n",
              "        async function convertToInteractive(key) {\n",
              "          const element = document.querySelector('#df-3f121506-29ed-46b1-a7ea-660d018724f2');\n",
              "          const dataTable =\n",
              "            await google.colab.kernel.invokeFunction('convertToInteractive',\n",
              "                                                     [key], {});\n",
              "          if (!dataTable) return;\n",
              "\n",
              "          const docLinkHtml = 'Like what you see? Visit the ' +\n",
              "            '<a target=\"_blank\" href=https://colab.research.google.com/notebooks/data_table.ipynb>data table notebook</a>'\n",
              "            + ' to learn more about interactive tables.';\n",
              "          element.innerHTML = '';\n",
              "          dataTable['output_type'] = 'display_data';\n",
              "          await google.colab.output.renderOutput(dataTable, element);\n",
              "          const docLink = document.createElement('div');\n",
              "          docLink.innerHTML = docLinkHtml;\n",
              "          element.appendChild(docLink);\n",
              "        }\n",
              "      </script>\n",
              "    </div>\n",
              "  </div>\n",
              "  "
            ]
          },
          "metadata": {},
          "execution_count": 42
        }
      ],
      "source": [
        "df.describe()"
      ]
    },
    {
      "cell_type": "code",
      "execution_count": null,
      "metadata": {
        "colab": {
          "base_uri": "https://localhost:8080/"
        },
        "id": "q7cRs0z4v8nf",
        "outputId": "4b39f651-1bc9-43e1-91b7-93a658a4aa17"
      },
      "outputs": [
        {
          "output_type": "execute_result",
          "data": {
            "text/plain": [
              "array(['Everyone', 'Teen', 'Mature 17+', 'Everyone 10+',\n",
              "       'Adults only 18+'], dtype=object)"
            ]
          },
          "metadata": {},
          "execution_count": 43
        }
      ],
      "source": [
        "df['Content Rating'].unique()"
      ]
    },
    {
      "cell_type": "code",
      "execution_count": null,
      "metadata": {
        "id": "fEVFOCb2v8nf"
      },
      "outputs": [],
      "source": [
        "df['Content Rating']=df['Content Rating'].replace('Everyone 10+','Everyone')\n",
        "df['Content Rating']=df['Content Rating'].replace('Unrated','Teen')\n",
        "df['Content Rating']=df['Content Rating'].replace('Adults only 18+','Adults')\n",
        "df['Content Rating']=df['Content Rating'].replace('Mature 17+','Adults')"
      ]
    },
    {
      "cell_type": "code",
      "execution_count": null,
      "metadata": {
        "colab": {
          "base_uri": "https://localhost:8080/"
        },
        "id": "7qZntzUOv8ng",
        "outputId": "89f6593b-f683-438d-a353-467ec5c6ab26"
      },
      "outputs": [
        {
          "output_type": "execute_result",
          "data": {
            "text/plain": [
              "array(['Everyone', 'Teen', 'Adults'], dtype=object)"
            ]
          },
          "metadata": {},
          "execution_count": 45
        }
      ],
      "source": [
        "df['Content Rating'].unique()"
      ]
    },
    {
      "cell_type": "code",
      "execution_count": null,
      "metadata": {
        "colab": {
          "base_uri": "https://localhost:8080/"
        },
        "id": "PH5983Xtv8nj",
        "outputId": "caf5c543-c0a0-4514-9018-8107da97fb92"
      },
      "outputs": [
        {
          "output_type": "stream",
          "name": "stdout",
          "text": [
            "<class 'pandas.core.frame.DataFrame'>\n",
            "Int64Index: 17915 entries, 0 to 17915\n",
            "Data columns (total 24 columns):\n",
            " #   Column             Non-Null Count  Dtype  \n",
            "---  ------             --------------  -----  \n",
            " 0   App Name           17915 non-null  object \n",
            " 1   App Id             17915 non-null  object \n",
            " 2   Category           17915 non-null  object \n",
            " 3   Rating             17755 non-null  float64\n",
            " 4   Rating Count       17755 non-null  float64\n",
            " 5   Installs           17915 non-null  int64  \n",
            " 6   Minimum Installs   17915 non-null  float64\n",
            " 7   Maximum Installs   17915 non-null  int64  \n",
            " 8   Price              17915 non-null  float64\n",
            " 9   Currency           17915 non-null  object \n",
            " 10  Size               17915 non-null  float64\n",
            " 11  Minimum Android    17865 non-null  object \n",
            " 12  Developer Id       17915 non-null  object \n",
            " 13  Developer Website  12063 non-null  object \n",
            " 14  Developer Email    17915 non-null  object \n",
            " 15  Released           17398 non-null  object \n",
            " 16  Last Updated       17915 non-null  object \n",
            " 17  Content Rating     17915 non-null  object \n",
            " 18  Privacy Policy     14704 non-null  object \n",
            " 19  Ad Supported       17915 non-null  object \n",
            " 20  In App Purchases   17915 non-null  object \n",
            " 21  Editors Choice     17915 non-null  object \n",
            " 22  Scraped Time       17915 non-null  object \n",
            " 23  Type               17915 non-null  object \n",
            "dtypes: float64(5), int64(2), object(17)\n",
            "memory usage: 3.4+ MB\n"
          ]
        }
      ],
      "source": [
        "df.info()"
      ]
    },
    {
      "cell_type": "code",
      "execution_count": null,
      "metadata": {
        "colab": {
          "base_uri": "https://localhost:8080/"
        },
        "id": "n5pmEoVqv8nj",
        "outputId": "6e25f3b6-a7a2-4521-9aed-dc8065420872"
      },
      "outputs": [
        {
          "output_type": "execute_result",
          "data": {
            "text/plain": [
              "array([0. , 4.4, 5. , 4.5, 2. , 4.7, 4.9, 3.9, 3.7, 4.2, 3.4, 3.8, 4.6,\n",
              "       4.1, 2.5, 2.3, 2.1, 2.7, 4.3, 3.1, 4.8, 3.3, 4. , 2.4, 3.2, 3.6,\n",
              "       2.6, nan, 1.5, 3.5, 2.9, 1.3, 2.8, 3. , 2.2, 1.8, 1.4, 1.2, 1.9,\n",
              "       1.7, 1.6, 1. , 1.1])"
            ]
          },
          "metadata": {},
          "execution_count": 47
        }
      ],
      "source": [
        "df['Rating'].unique()"
      ]
    },
    {
      "cell_type": "code",
      "execution_count": null,
      "metadata": {
        "colab": {
          "base_uri": "https://localhost:8080/"
        },
        "id": "DNapIBUSv8nk",
        "outputId": "bda39439-2688-41bb-ecd6-c61ede2fb413"
      },
      "outputs": [
        {
          "output_type": "execute_result",
          "data": {
            "text/plain": [
              "array([0.0000e+00, 6.4000e+01, 5.0000e+00, ..., 9.5600e+02, 1.9040e+03,\n",
              "       3.2231e+04])"
            ]
          },
          "metadata": {},
          "execution_count": 48
        }
      ],
      "source": [
        "df['Rating Count'].unique()"
      ]
    },
    {
      "cell_type": "code",
      "execution_count": null,
      "metadata": {
        "colab": {
          "base_uri": "https://localhost:8080/"
        },
        "id": "C5TYmIPsv8nk",
        "outputId": "e02d8668-061b-4550-964d-d0d6c6f164f5"
      },
      "outputs": [
        {
          "output_type": "execute_result",
          "data": {
            "text/plain": [
              "1888256.0"
            ]
          },
          "metadata": {},
          "execution_count": 49
        }
      ],
      "source": [
        "df['Rating Count'].max()"
      ]
    },
    {
      "cell_type": "code",
      "execution_count": null,
      "metadata": {
        "colab": {
          "base_uri": "https://localhost:8080/"
        },
        "id": "kPzUFaNAv8nl",
        "outputId": "2f696b52-0e3b-48ca-db43-21a28100231f"
      },
      "outputs": [
        {
          "output_type": "execute_result",
          "data": {
            "text/plain": [
              "Less than 10K           9311\n",
              "Between 10K and 500K     267\n",
              "More than 500K            10\n",
              "Name: RatingType, dtype: int64"
            ]
          },
          "metadata": {},
          "execution_count": 50
        }
      ],
      "source": [
        "df['Rating Type'] = 'NoRatingProvided'\n",
        "df.loc[(df['Rating Count'] > 0) & (df['Rating Count'] <= 10000.0),'RatingType'] = 'Less than 10K'\n",
        "df.loc[(df['Rating Count'] > 10000) & (df['Rating Count'] <= 500000.0),'RatingType'] = 'Between 10K and 500K'\n",
        "df.loc[(df['Rating Count'] > 500000) & (df['Rating Count'] <= 138557570.0),'RatingType'] = 'More than 500K'\n",
        "df.RatingType.value_counts()"
      ]
    },
    {
      "cell_type": "code",
      "execution_count": null,
      "metadata": {
        "colab": {
          "base_uri": "https://localhost:8080/"
        },
        "id": "B3AijlA3v8nl",
        "outputId": "16c09430-80d3-4ad1-da63-09cc9047b3dd"
      },
      "outputs": [
        {
          "output_type": "stream",
          "name": "stdout",
          "text": [
            "<class 'pandas.core.frame.DataFrame'>\n",
            "Int64Index: 17915 entries, 0 to 17915\n",
            "Data columns (total 26 columns):\n",
            " #   Column             Non-Null Count  Dtype  \n",
            "---  ------             --------------  -----  \n",
            " 0   App Name           17915 non-null  object \n",
            " 1   App Id             17915 non-null  object \n",
            " 2   Category           17915 non-null  object \n",
            " 3   Rating             17755 non-null  float64\n",
            " 4   Rating Count       17755 non-null  float64\n",
            " 5   Installs           17915 non-null  int64  \n",
            " 6   Minimum Installs   17915 non-null  float64\n",
            " 7   Maximum Installs   17915 non-null  int64  \n",
            " 8   Price              17915 non-null  float64\n",
            " 9   Currency           17915 non-null  object \n",
            " 10  Size               17915 non-null  float64\n",
            " 11  Minimum Android    17865 non-null  object \n",
            " 12  Developer Id       17915 non-null  object \n",
            " 13  Developer Website  12063 non-null  object \n",
            " 14  Developer Email    17915 non-null  object \n",
            " 15  Released           17398 non-null  object \n",
            " 16  Last Updated       17915 non-null  object \n",
            " 17  Content Rating     17915 non-null  object \n",
            " 18  Privacy Policy     14704 non-null  object \n",
            " 19  Ad Supported       17915 non-null  object \n",
            " 20  In App Purchases   17915 non-null  object \n",
            " 21  Editors Choice     17915 non-null  object \n",
            " 22  Scraped Time       17915 non-null  object \n",
            " 23  Type               17915 non-null  object \n",
            " 24  Rating Type        17915 non-null  object \n",
            " 25  RatingType         9588 non-null   object \n",
            "dtypes: float64(5), int64(2), object(19)\n",
            "memory usage: 3.7+ MB\n"
          ]
        }
      ],
      "source": [
        "df.info()"
      ]
    },
    {
      "cell_type": "markdown",
      "metadata": {
        "id": "-A2Jt_e_v8nm"
      },
      "source": [
        "# Question and Aswers :\n",
        "What are the top 10 Categories that are installed from the Google Play Store ?\n",
        "\n",
        "Which are the Categories that are getting installed the most in top 10 Categories?\n",
        "\n",
        "What is the higest rated Category ?\n",
        "\n",
        "Which Category has the highest Paid and Free apps ?\n",
        "\n",
        "How does the size of the Application impacts the Installation ?\n",
        "\n",
        "What are the Top 5 Paid Apps based With highest ratings and installs ?\n",
        "\n",
        "What are the Top 5 Free Apps based With highest ratings and installs ?"
      ]
    },
    {
      "cell_type": "code",
      "execution_count": null,
      "metadata": {
        "colab": {
          "base_uri": "https://localhost:8080/"
        },
        "id": "xJT_QJYPv8nt",
        "outputId": "3c4795c8-ed70-4715-d19d-9ee42ec1f1cf"
      },
      "outputs": [
        {
          "output_type": "execute_result",
          "data": {
            "text/plain": [
              "array(['Adventure', 'Tools', 'Productivity', 'Communication', 'Social',\n",
              "       'Libraries & Demo', 'Lifestyle', 'Personalization', 'Racing',\n",
              "       'Maps & Navigation', 'Travel & Local', 'Food & Drink',\n",
              "       'Books & Reference', 'Medical', 'Puzzle', 'Entertainment',\n",
              "       'Arcade', 'Auto & Vehicles', 'Photography', 'Health & Fitness',\n",
              "       'Education', 'Shopping', 'Board', 'Music & Audio', 'Sports',\n",
              "       'Beauty', 'Business', 'Educational', 'Finance', 'News & Magazines',\n",
              "       'Casual', 'Art & Design', 'House & Home', 'Card', 'Events',\n",
              "       'Trivia', 'Weather', 'Strategy', 'Word', 'Video Players & Editors',\n",
              "       'Action', 'Simulation', 'Music', 'Dating', 'Role Playing',\n",
              "       'Casino', 'Comics', 'Parenting'], dtype=object)"
            ]
          },
          "metadata": {},
          "execution_count": 52
        }
      ],
      "source": [
        "df['Category'].unique()"
      ]
    },
    {
      "cell_type": "code",
      "execution_count": null,
      "metadata": {
        "id": "DbFoKHEZv8nv"
      },
      "outputs": [],
      "source": [
        "top_Category = df.Category.value_counts().reset_index().rename(columns={'Category':'Count','index':'Category'})"
      ]
    },
    {
      "cell_type": "code",
      "execution_count": null,
      "metadata": {
        "colab": {
          "base_uri": "https://localhost:8080/",
          "height": 1000
        },
        "id": "eV07B-KNv8nw",
        "outputId": "80496302-c9c5-46d2-83b0-ca4b2f61f5da"
      },
      "outputs": [
        {
          "output_type": "execute_result",
          "data": {
            "text/plain": [
              "                   Category  Count\n",
              "0                 Education   1832\n",
              "1             Music & Audio   1241\n",
              "2                  Business   1106\n",
              "3                     Tools   1101\n",
              "4             Entertainment   1054\n",
              "5                 Lifestyle    894\n",
              "6         Books & Reference    890\n",
              "7           Personalization    692\n",
              "8              Productivity    662\n",
              "9          Health & Fitness    631\n",
              "10             Food & Drink    613\n",
              "11                 Shopping    613\n",
              "12           Travel & Local    541\n",
              "13                  Finance    510\n",
              "14                   Casual    407\n",
              "15                   Arcade    398\n",
              "16                   Puzzle    387\n",
              "17                   Social    362\n",
              "18                   Sports    359\n",
              "19            Communication    345\n",
              "20         News & Magazines    316\n",
              "21              Photography    263\n",
              "22                  Medical    257\n",
              "23        Maps & Navigation    226\n",
              "24                   Action    215\n",
              "25                Adventure    182\n",
              "26              Educational    169\n",
              "27               Simulation    167\n",
              "28             Art & Design    140\n",
              "29          Auto & Vehicles    137\n",
              "30             House & Home    126\n",
              "31  Video Players & Editors    114\n",
              "32                   Events    101\n",
              "33                   Beauty     89\n",
              "34                   Racing     85\n",
              "35                    Board     80\n",
              "36             Role Playing     80\n",
              "37                 Strategy     69\n",
              "38                     Word     65\n",
              "39                   Trivia     65\n",
              "40                     Card     57\n",
              "41                   Dating     55\n",
              "42                  Weather     50\n",
              "43         Libraries & Demo     46\n",
              "44                    Music     45\n",
              "45                Parenting     31\n",
              "46                   Casino     25\n",
              "47                   Comics     22"
            ],
            "text/html": [
              "\n",
              "  <div id=\"df-329fde70-a084-4b6b-89a1-7303843db0a1\">\n",
              "    <div class=\"colab-df-container\">\n",
              "      <div>\n",
              "<style scoped>\n",
              "    .dataframe tbody tr th:only-of-type {\n",
              "        vertical-align: middle;\n",
              "    }\n",
              "\n",
              "    .dataframe tbody tr th {\n",
              "        vertical-align: top;\n",
              "    }\n",
              "\n",
              "    .dataframe thead th {\n",
              "        text-align: right;\n",
              "    }\n",
              "</style>\n",
              "<table border=\"1\" class=\"dataframe\">\n",
              "  <thead>\n",
              "    <tr style=\"text-align: right;\">\n",
              "      <th></th>\n",
              "      <th>Category</th>\n",
              "      <th>Count</th>\n",
              "    </tr>\n",
              "  </thead>\n",
              "  <tbody>\n",
              "    <tr>\n",
              "      <th>0</th>\n",
              "      <td>Education</td>\n",
              "      <td>1832</td>\n",
              "    </tr>\n",
              "    <tr>\n",
              "      <th>1</th>\n",
              "      <td>Music &amp; Audio</td>\n",
              "      <td>1241</td>\n",
              "    </tr>\n",
              "    <tr>\n",
              "      <th>2</th>\n",
              "      <td>Business</td>\n",
              "      <td>1106</td>\n",
              "    </tr>\n",
              "    <tr>\n",
              "      <th>3</th>\n",
              "      <td>Tools</td>\n",
              "      <td>1101</td>\n",
              "    </tr>\n",
              "    <tr>\n",
              "      <th>4</th>\n",
              "      <td>Entertainment</td>\n",
              "      <td>1054</td>\n",
              "    </tr>\n",
              "    <tr>\n",
              "      <th>5</th>\n",
              "      <td>Lifestyle</td>\n",
              "      <td>894</td>\n",
              "    </tr>\n",
              "    <tr>\n",
              "      <th>6</th>\n",
              "      <td>Books &amp; Reference</td>\n",
              "      <td>890</td>\n",
              "    </tr>\n",
              "    <tr>\n",
              "      <th>7</th>\n",
              "      <td>Personalization</td>\n",
              "      <td>692</td>\n",
              "    </tr>\n",
              "    <tr>\n",
              "      <th>8</th>\n",
              "      <td>Productivity</td>\n",
              "      <td>662</td>\n",
              "    </tr>\n",
              "    <tr>\n",
              "      <th>9</th>\n",
              "      <td>Health &amp; Fitness</td>\n",
              "      <td>631</td>\n",
              "    </tr>\n",
              "    <tr>\n",
              "      <th>10</th>\n",
              "      <td>Food &amp; Drink</td>\n",
              "      <td>613</td>\n",
              "    </tr>\n",
              "    <tr>\n",
              "      <th>11</th>\n",
              "      <td>Shopping</td>\n",
              "      <td>613</td>\n",
              "    </tr>\n",
              "    <tr>\n",
              "      <th>12</th>\n",
              "      <td>Travel &amp; Local</td>\n",
              "      <td>541</td>\n",
              "    </tr>\n",
              "    <tr>\n",
              "      <th>13</th>\n",
              "      <td>Finance</td>\n",
              "      <td>510</td>\n",
              "    </tr>\n",
              "    <tr>\n",
              "      <th>14</th>\n",
              "      <td>Casual</td>\n",
              "      <td>407</td>\n",
              "    </tr>\n",
              "    <tr>\n",
              "      <th>15</th>\n",
              "      <td>Arcade</td>\n",
              "      <td>398</td>\n",
              "    </tr>\n",
              "    <tr>\n",
              "      <th>16</th>\n",
              "      <td>Puzzle</td>\n",
              "      <td>387</td>\n",
              "    </tr>\n",
              "    <tr>\n",
              "      <th>17</th>\n",
              "      <td>Social</td>\n",
              "      <td>362</td>\n",
              "    </tr>\n",
              "    <tr>\n",
              "      <th>18</th>\n",
              "      <td>Sports</td>\n",
              "      <td>359</td>\n",
              "    </tr>\n",
              "    <tr>\n",
              "      <th>19</th>\n",
              "      <td>Communication</td>\n",
              "      <td>345</td>\n",
              "    </tr>\n",
              "    <tr>\n",
              "      <th>20</th>\n",
              "      <td>News &amp; Magazines</td>\n",
              "      <td>316</td>\n",
              "    </tr>\n",
              "    <tr>\n",
              "      <th>21</th>\n",
              "      <td>Photography</td>\n",
              "      <td>263</td>\n",
              "    </tr>\n",
              "    <tr>\n",
              "      <th>22</th>\n",
              "      <td>Medical</td>\n",
              "      <td>257</td>\n",
              "    </tr>\n",
              "    <tr>\n",
              "      <th>23</th>\n",
              "      <td>Maps &amp; Navigation</td>\n",
              "      <td>226</td>\n",
              "    </tr>\n",
              "    <tr>\n",
              "      <th>24</th>\n",
              "      <td>Action</td>\n",
              "      <td>215</td>\n",
              "    </tr>\n",
              "    <tr>\n",
              "      <th>25</th>\n",
              "      <td>Adventure</td>\n",
              "      <td>182</td>\n",
              "    </tr>\n",
              "    <tr>\n",
              "      <th>26</th>\n",
              "      <td>Educational</td>\n",
              "      <td>169</td>\n",
              "    </tr>\n",
              "    <tr>\n",
              "      <th>27</th>\n",
              "      <td>Simulation</td>\n",
              "      <td>167</td>\n",
              "    </tr>\n",
              "    <tr>\n",
              "      <th>28</th>\n",
              "      <td>Art &amp; Design</td>\n",
              "      <td>140</td>\n",
              "    </tr>\n",
              "    <tr>\n",
              "      <th>29</th>\n",
              "      <td>Auto &amp; Vehicles</td>\n",
              "      <td>137</td>\n",
              "    </tr>\n",
              "    <tr>\n",
              "      <th>30</th>\n",
              "      <td>House &amp; Home</td>\n",
              "      <td>126</td>\n",
              "    </tr>\n",
              "    <tr>\n",
              "      <th>31</th>\n",
              "      <td>Video Players &amp; Editors</td>\n",
              "      <td>114</td>\n",
              "    </tr>\n",
              "    <tr>\n",
              "      <th>32</th>\n",
              "      <td>Events</td>\n",
              "      <td>101</td>\n",
              "    </tr>\n",
              "    <tr>\n",
              "      <th>33</th>\n",
              "      <td>Beauty</td>\n",
              "      <td>89</td>\n",
              "    </tr>\n",
              "    <tr>\n",
              "      <th>34</th>\n",
              "      <td>Racing</td>\n",
              "      <td>85</td>\n",
              "    </tr>\n",
              "    <tr>\n",
              "      <th>35</th>\n",
              "      <td>Board</td>\n",
              "      <td>80</td>\n",
              "    </tr>\n",
              "    <tr>\n",
              "      <th>36</th>\n",
              "      <td>Role Playing</td>\n",
              "      <td>80</td>\n",
              "    </tr>\n",
              "    <tr>\n",
              "      <th>37</th>\n",
              "      <td>Strategy</td>\n",
              "      <td>69</td>\n",
              "    </tr>\n",
              "    <tr>\n",
              "      <th>38</th>\n",
              "      <td>Word</td>\n",
              "      <td>65</td>\n",
              "    </tr>\n",
              "    <tr>\n",
              "      <th>39</th>\n",
              "      <td>Trivia</td>\n",
              "      <td>65</td>\n",
              "    </tr>\n",
              "    <tr>\n",
              "      <th>40</th>\n",
              "      <td>Card</td>\n",
              "      <td>57</td>\n",
              "    </tr>\n",
              "    <tr>\n",
              "      <th>41</th>\n",
              "      <td>Dating</td>\n",
              "      <td>55</td>\n",
              "    </tr>\n",
              "    <tr>\n",
              "      <th>42</th>\n",
              "      <td>Weather</td>\n",
              "      <td>50</td>\n",
              "    </tr>\n",
              "    <tr>\n",
              "      <th>43</th>\n",
              "      <td>Libraries &amp; Demo</td>\n",
              "      <td>46</td>\n",
              "    </tr>\n",
              "    <tr>\n",
              "      <th>44</th>\n",
              "      <td>Music</td>\n",
              "      <td>45</td>\n",
              "    </tr>\n",
              "    <tr>\n",
              "      <th>45</th>\n",
              "      <td>Parenting</td>\n",
              "      <td>31</td>\n",
              "    </tr>\n",
              "    <tr>\n",
              "      <th>46</th>\n",
              "      <td>Casino</td>\n",
              "      <td>25</td>\n",
              "    </tr>\n",
              "    <tr>\n",
              "      <th>47</th>\n",
              "      <td>Comics</td>\n",
              "      <td>22</td>\n",
              "    </tr>\n",
              "  </tbody>\n",
              "</table>\n",
              "</div>\n",
              "      <button class=\"colab-df-convert\" onclick=\"convertToInteractive('df-329fde70-a084-4b6b-89a1-7303843db0a1')\"\n",
              "              title=\"Convert this dataframe to an interactive table.\"\n",
              "              style=\"display:none;\">\n",
              "        \n",
              "  <svg xmlns=\"http://www.w3.org/2000/svg\" height=\"24px\"viewBox=\"0 0 24 24\"\n",
              "       width=\"24px\">\n",
              "    <path d=\"M0 0h24v24H0V0z\" fill=\"none\"/>\n",
              "    <path d=\"M18.56 5.44l.94 2.06.94-2.06 2.06-.94-2.06-.94-.94-2.06-.94 2.06-2.06.94zm-11 1L8.5 8.5l.94-2.06 2.06-.94-2.06-.94L8.5 2.5l-.94 2.06-2.06.94zm10 10l.94 2.06.94-2.06 2.06-.94-2.06-.94-.94-2.06-.94 2.06-2.06.94z\"/><path d=\"M17.41 7.96l-1.37-1.37c-.4-.4-.92-.59-1.43-.59-.52 0-1.04.2-1.43.59L10.3 9.45l-7.72 7.72c-.78.78-.78 2.05 0 2.83L4 21.41c.39.39.9.59 1.41.59.51 0 1.02-.2 1.41-.59l7.78-7.78 2.81-2.81c.8-.78.8-2.07 0-2.86zM5.41 20L4 18.59l7.72-7.72 1.47 1.35L5.41 20z\"/>\n",
              "  </svg>\n",
              "      </button>\n",
              "      \n",
              "  <style>\n",
              "    .colab-df-container {\n",
              "      display:flex;\n",
              "      flex-wrap:wrap;\n",
              "      gap: 12px;\n",
              "    }\n",
              "\n",
              "    .colab-df-convert {\n",
              "      background-color: #E8F0FE;\n",
              "      border: none;\n",
              "      border-radius: 50%;\n",
              "      cursor: pointer;\n",
              "      display: none;\n",
              "      fill: #1967D2;\n",
              "      height: 32px;\n",
              "      padding: 0 0 0 0;\n",
              "      width: 32px;\n",
              "    }\n",
              "\n",
              "    .colab-df-convert:hover {\n",
              "      background-color: #E2EBFA;\n",
              "      box-shadow: 0px 1px 2px rgba(60, 64, 67, 0.3), 0px 1px 3px 1px rgba(60, 64, 67, 0.15);\n",
              "      fill: #174EA6;\n",
              "    }\n",
              "\n",
              "    [theme=dark] .colab-df-convert {\n",
              "      background-color: #3B4455;\n",
              "      fill: #D2E3FC;\n",
              "    }\n",
              "\n",
              "    [theme=dark] .colab-df-convert:hover {\n",
              "      background-color: #434B5C;\n",
              "      box-shadow: 0px 1px 3px 1px rgba(0, 0, 0, 0.15);\n",
              "      filter: drop-shadow(0px 1px 2px rgba(0, 0, 0, 0.3));\n",
              "      fill: #FFFFFF;\n",
              "    }\n",
              "  </style>\n",
              "\n",
              "      <script>\n",
              "        const buttonEl =\n",
              "          document.querySelector('#df-329fde70-a084-4b6b-89a1-7303843db0a1 button.colab-df-convert');\n",
              "        buttonEl.style.display =\n",
              "          google.colab.kernel.accessAllowed ? 'block' : 'none';\n",
              "\n",
              "        async function convertToInteractive(key) {\n",
              "          const element = document.querySelector('#df-329fde70-a084-4b6b-89a1-7303843db0a1');\n",
              "          const dataTable =\n",
              "            await google.colab.kernel.invokeFunction('convertToInteractive',\n",
              "                                                     [key], {});\n",
              "          if (!dataTable) return;\n",
              "\n",
              "          const docLinkHtml = 'Like what you see? Visit the ' +\n",
              "            '<a target=\"_blank\" href=https://colab.research.google.com/notebooks/data_table.ipynb>data table notebook</a>'\n",
              "            + ' to learn more about interactive tables.';\n",
              "          element.innerHTML = '';\n",
              "          dataTable['output_type'] = 'display_data';\n",
              "          await google.colab.output.renderOutput(dataTable, element);\n",
              "          const docLink = document.createElement('div');\n",
              "          docLink.innerHTML = docLinkHtml;\n",
              "          element.appendChild(docLink);\n",
              "        }\n",
              "      </script>\n",
              "    </div>\n",
              "  </div>\n",
              "  "
            ]
          },
          "metadata": {},
          "execution_count": 54
        }
      ],
      "source": [
        "top_Category"
      ]
    },
    {
      "cell_type": "code",
      "execution_count": null,
      "metadata": {
        "id": "NTkvDMXWv8nw"
      },
      "outputs": [],
      "source": [
        "Category_installs = df.groupby(['Category'])[['Installs']].sum()"
      ]
    },
    {
      "cell_type": "code",
      "execution_count": null,
      "metadata": {
        "colab": {
          "base_uri": "https://localhost:8080/",
          "height": 1000
        },
        "id": "4X6oVj3ov8nx",
        "outputId": "7633b442-2e30-49cb-b9dc-be1c1395fc55"
      },
      "outputs": [
        {
          "output_type": "execute_result",
          "data": {
            "text/plain": [
              "                           Installs\n",
              "Category                           \n",
              "Action                    111161995\n",
              "Adventure                  37536742\n",
              "Arcade                     80112391\n",
              "Art & Design                5191171\n",
              "Auto & Vehicles             4094938\n",
              "Beauty                      1798201\n",
              "Board                      24437997\n",
              "Books & Reference          23408228\n",
              "Business                   10566093\n",
              "Card                       12247910\n",
              "Casino                      4787750\n",
              "Casual                     60192871\n",
              "Comics                       174691\n",
              "Communication              26756375\n",
              "Dating                      3923476\n",
              "Education                  63117607\n",
              "Educational                30036078\n",
              "Entertainment              72816596\n",
              "Events                       102994\n",
              "Finance                    40268061\n",
              "Food & Drink                5813148\n",
              "Health & Fitness           24834346\n",
              "House & Home                 975776\n",
              "Libraries & Demo           10291741\n",
              "Lifestyle                  40975315\n",
              "Maps & Navigation          21041137\n",
              "Medical                     5292501\n",
              "Music                       3754180\n",
              "Music & Audio              34093916\n",
              "News & Magazines            4116866\n",
              "Parenting                    502621\n",
              "Personalization            48393552\n",
              "Photography                64547565\n",
              "Productivity             1012278883\n",
              "Puzzle                     49894509\n",
              "Racing                     17757391\n",
              "Role Playing               31017381\n",
              "Shopping                   12886512\n",
              "Simulation                 78806776\n",
              "Social                     21433426\n",
              "Sports                    129954204\n",
              "Strategy                   10366467\n",
              "Tools                     160735209\n",
              "Travel & Local             13888583\n",
              "Trivia                      2291122\n",
              "Video Players & Editors   120695701\n",
              "Weather                    17319505\n",
              "Word                       28834071"
            ],
            "text/html": [
              "\n",
              "  <div id=\"df-681b0d0d-2631-4f40-a1d0-f35e3c0a22b9\">\n",
              "    <div class=\"colab-df-container\">\n",
              "      <div>\n",
              "<style scoped>\n",
              "    .dataframe tbody tr th:only-of-type {\n",
              "        vertical-align: middle;\n",
              "    }\n",
              "\n",
              "    .dataframe tbody tr th {\n",
              "        vertical-align: top;\n",
              "    }\n",
              "\n",
              "    .dataframe thead th {\n",
              "        text-align: right;\n",
              "    }\n",
              "</style>\n",
              "<table border=\"1\" class=\"dataframe\">\n",
              "  <thead>\n",
              "    <tr style=\"text-align: right;\">\n",
              "      <th></th>\n",
              "      <th>Installs</th>\n",
              "    </tr>\n",
              "    <tr>\n",
              "      <th>Category</th>\n",
              "      <th></th>\n",
              "    </tr>\n",
              "  </thead>\n",
              "  <tbody>\n",
              "    <tr>\n",
              "      <th>Action</th>\n",
              "      <td>111161995</td>\n",
              "    </tr>\n",
              "    <tr>\n",
              "      <th>Adventure</th>\n",
              "      <td>37536742</td>\n",
              "    </tr>\n",
              "    <tr>\n",
              "      <th>Arcade</th>\n",
              "      <td>80112391</td>\n",
              "    </tr>\n",
              "    <tr>\n",
              "      <th>Art &amp; Design</th>\n",
              "      <td>5191171</td>\n",
              "    </tr>\n",
              "    <tr>\n",
              "      <th>Auto &amp; Vehicles</th>\n",
              "      <td>4094938</td>\n",
              "    </tr>\n",
              "    <tr>\n",
              "      <th>Beauty</th>\n",
              "      <td>1798201</td>\n",
              "    </tr>\n",
              "    <tr>\n",
              "      <th>Board</th>\n",
              "      <td>24437997</td>\n",
              "    </tr>\n",
              "    <tr>\n",
              "      <th>Books &amp; Reference</th>\n",
              "      <td>23408228</td>\n",
              "    </tr>\n",
              "    <tr>\n",
              "      <th>Business</th>\n",
              "      <td>10566093</td>\n",
              "    </tr>\n",
              "    <tr>\n",
              "      <th>Card</th>\n",
              "      <td>12247910</td>\n",
              "    </tr>\n",
              "    <tr>\n",
              "      <th>Casino</th>\n",
              "      <td>4787750</td>\n",
              "    </tr>\n",
              "    <tr>\n",
              "      <th>Casual</th>\n",
              "      <td>60192871</td>\n",
              "    </tr>\n",
              "    <tr>\n",
              "      <th>Comics</th>\n",
              "      <td>174691</td>\n",
              "    </tr>\n",
              "    <tr>\n",
              "      <th>Communication</th>\n",
              "      <td>26756375</td>\n",
              "    </tr>\n",
              "    <tr>\n",
              "      <th>Dating</th>\n",
              "      <td>3923476</td>\n",
              "    </tr>\n",
              "    <tr>\n",
              "      <th>Education</th>\n",
              "      <td>63117607</td>\n",
              "    </tr>\n",
              "    <tr>\n",
              "      <th>Educational</th>\n",
              "      <td>30036078</td>\n",
              "    </tr>\n",
              "    <tr>\n",
              "      <th>Entertainment</th>\n",
              "      <td>72816596</td>\n",
              "    </tr>\n",
              "    <tr>\n",
              "      <th>Events</th>\n",
              "      <td>102994</td>\n",
              "    </tr>\n",
              "    <tr>\n",
              "      <th>Finance</th>\n",
              "      <td>40268061</td>\n",
              "    </tr>\n",
              "    <tr>\n",
              "      <th>Food &amp; Drink</th>\n",
              "      <td>5813148</td>\n",
              "    </tr>\n",
              "    <tr>\n",
              "      <th>Health &amp; Fitness</th>\n",
              "      <td>24834346</td>\n",
              "    </tr>\n",
              "    <tr>\n",
              "      <th>House &amp; Home</th>\n",
              "      <td>975776</td>\n",
              "    </tr>\n",
              "    <tr>\n",
              "      <th>Libraries &amp; Demo</th>\n",
              "      <td>10291741</td>\n",
              "    </tr>\n",
              "    <tr>\n",
              "      <th>Lifestyle</th>\n",
              "      <td>40975315</td>\n",
              "    </tr>\n",
              "    <tr>\n",
              "      <th>Maps &amp; Navigation</th>\n",
              "      <td>21041137</td>\n",
              "    </tr>\n",
              "    <tr>\n",
              "      <th>Medical</th>\n",
              "      <td>5292501</td>\n",
              "    </tr>\n",
              "    <tr>\n",
              "      <th>Music</th>\n",
              "      <td>3754180</td>\n",
              "    </tr>\n",
              "    <tr>\n",
              "      <th>Music &amp; Audio</th>\n",
              "      <td>34093916</td>\n",
              "    </tr>\n",
              "    <tr>\n",
              "      <th>News &amp; Magazines</th>\n",
              "      <td>4116866</td>\n",
              "    </tr>\n",
              "    <tr>\n",
              "      <th>Parenting</th>\n",
              "      <td>502621</td>\n",
              "    </tr>\n",
              "    <tr>\n",
              "      <th>Personalization</th>\n",
              "      <td>48393552</td>\n",
              "    </tr>\n",
              "    <tr>\n",
              "      <th>Photography</th>\n",
              "      <td>64547565</td>\n",
              "    </tr>\n",
              "    <tr>\n",
              "      <th>Productivity</th>\n",
              "      <td>1012278883</td>\n",
              "    </tr>\n",
              "    <tr>\n",
              "      <th>Puzzle</th>\n",
              "      <td>49894509</td>\n",
              "    </tr>\n",
              "    <tr>\n",
              "      <th>Racing</th>\n",
              "      <td>17757391</td>\n",
              "    </tr>\n",
              "    <tr>\n",
              "      <th>Role Playing</th>\n",
              "      <td>31017381</td>\n",
              "    </tr>\n",
              "    <tr>\n",
              "      <th>Shopping</th>\n",
              "      <td>12886512</td>\n",
              "    </tr>\n",
              "    <tr>\n",
              "      <th>Simulation</th>\n",
              "      <td>78806776</td>\n",
              "    </tr>\n",
              "    <tr>\n",
              "      <th>Social</th>\n",
              "      <td>21433426</td>\n",
              "    </tr>\n",
              "    <tr>\n",
              "      <th>Sports</th>\n",
              "      <td>129954204</td>\n",
              "    </tr>\n",
              "    <tr>\n",
              "      <th>Strategy</th>\n",
              "      <td>10366467</td>\n",
              "    </tr>\n",
              "    <tr>\n",
              "      <th>Tools</th>\n",
              "      <td>160735209</td>\n",
              "    </tr>\n",
              "    <tr>\n",
              "      <th>Travel &amp; Local</th>\n",
              "      <td>13888583</td>\n",
              "    </tr>\n",
              "    <tr>\n",
              "      <th>Trivia</th>\n",
              "      <td>2291122</td>\n",
              "    </tr>\n",
              "    <tr>\n",
              "      <th>Video Players &amp; Editors</th>\n",
              "      <td>120695701</td>\n",
              "    </tr>\n",
              "    <tr>\n",
              "      <th>Weather</th>\n",
              "      <td>17319505</td>\n",
              "    </tr>\n",
              "    <tr>\n",
              "      <th>Word</th>\n",
              "      <td>28834071</td>\n",
              "    </tr>\n",
              "  </tbody>\n",
              "</table>\n",
              "</div>\n",
              "      <button class=\"colab-df-convert\" onclick=\"convertToInteractive('df-681b0d0d-2631-4f40-a1d0-f35e3c0a22b9')\"\n",
              "              title=\"Convert this dataframe to an interactive table.\"\n",
              "              style=\"display:none;\">\n",
              "        \n",
              "  <svg xmlns=\"http://www.w3.org/2000/svg\" height=\"24px\"viewBox=\"0 0 24 24\"\n",
              "       width=\"24px\">\n",
              "    <path d=\"M0 0h24v24H0V0z\" fill=\"none\"/>\n",
              "    <path d=\"M18.56 5.44l.94 2.06.94-2.06 2.06-.94-2.06-.94-.94-2.06-.94 2.06-2.06.94zm-11 1L8.5 8.5l.94-2.06 2.06-.94-2.06-.94L8.5 2.5l-.94 2.06-2.06.94zm10 10l.94 2.06.94-2.06 2.06-.94-2.06-.94-.94-2.06-.94 2.06-2.06.94z\"/><path d=\"M17.41 7.96l-1.37-1.37c-.4-.4-.92-.59-1.43-.59-.52 0-1.04.2-1.43.59L10.3 9.45l-7.72 7.72c-.78.78-.78 2.05 0 2.83L4 21.41c.39.39.9.59 1.41.59.51 0 1.02-.2 1.41-.59l7.78-7.78 2.81-2.81c.8-.78.8-2.07 0-2.86zM5.41 20L4 18.59l7.72-7.72 1.47 1.35L5.41 20z\"/>\n",
              "  </svg>\n",
              "      </button>\n",
              "      \n",
              "  <style>\n",
              "    .colab-df-container {\n",
              "      display:flex;\n",
              "      flex-wrap:wrap;\n",
              "      gap: 12px;\n",
              "    }\n",
              "\n",
              "    .colab-df-convert {\n",
              "      background-color: #E8F0FE;\n",
              "      border: none;\n",
              "      border-radius: 50%;\n",
              "      cursor: pointer;\n",
              "      display: none;\n",
              "      fill: #1967D2;\n",
              "      height: 32px;\n",
              "      padding: 0 0 0 0;\n",
              "      width: 32px;\n",
              "    }\n",
              "\n",
              "    .colab-df-convert:hover {\n",
              "      background-color: #E2EBFA;\n",
              "      box-shadow: 0px 1px 2px rgba(60, 64, 67, 0.3), 0px 1px 3px 1px rgba(60, 64, 67, 0.15);\n",
              "      fill: #174EA6;\n",
              "    }\n",
              "\n",
              "    [theme=dark] .colab-df-convert {\n",
              "      background-color: #3B4455;\n",
              "      fill: #D2E3FC;\n",
              "    }\n",
              "\n",
              "    [theme=dark] .colab-df-convert:hover {\n",
              "      background-color: #434B5C;\n",
              "      box-shadow: 0px 1px 3px 1px rgba(0, 0, 0, 0.15);\n",
              "      filter: drop-shadow(0px 1px 2px rgba(0, 0, 0, 0.3));\n",
              "      fill: #FFFFFF;\n",
              "    }\n",
              "  </style>\n",
              "\n",
              "      <script>\n",
              "        const buttonEl =\n",
              "          document.querySelector('#df-681b0d0d-2631-4f40-a1d0-f35e3c0a22b9 button.colab-df-convert');\n",
              "        buttonEl.style.display =\n",
              "          google.colab.kernel.accessAllowed ? 'block' : 'none';\n",
              "\n",
              "        async function convertToInteractive(key) {\n",
              "          const element = document.querySelector('#df-681b0d0d-2631-4f40-a1d0-f35e3c0a22b9');\n",
              "          const dataTable =\n",
              "            await google.colab.kernel.invokeFunction('convertToInteractive',\n",
              "                                                     [key], {});\n",
              "          if (!dataTable) return;\n",
              "\n",
              "          const docLinkHtml = 'Like what you see? Visit the ' +\n",
              "            '<a target=\"_blank\" href=https://colab.research.google.com/notebooks/data_table.ipynb>data table notebook</a>'\n",
              "            + ' to learn more about interactive tables.';\n",
              "          element.innerHTML = '';\n",
              "          dataTable['output_type'] = 'display_data';\n",
              "          await google.colab.output.renderOutput(dataTable, element);\n",
              "          const docLink = document.createElement('div');\n",
              "          docLink.innerHTML = docLinkHtml;\n",
              "          element.appendChild(docLink);\n",
              "        }\n",
              "      </script>\n",
              "    </div>\n",
              "  </div>\n",
              "  "
            ]
          },
          "metadata": {},
          "execution_count": 56
        }
      ],
      "source": [
        "Category_installs"
      ]
    },
    {
      "cell_type": "code",
      "execution_count": null,
      "metadata": {
        "colab": {
          "base_uri": "https://localhost:8080/",
          "height": 206
        },
        "id": "1eOXGKgRv8ny",
        "outputId": "27b82bfb-90d8-4d3a-ea72-abe58ff165db"
      },
      "outputs": [
        {
          "output_type": "execute_result",
          "data": {
            "text/plain": [
              "        Category  Count   Installs\n",
              "0      Education   1832   63117607\n",
              "1  Music & Audio   1241   34093916\n",
              "2       Business   1106   10566093\n",
              "3          Tools   1101  160735209\n",
              "4  Entertainment   1054   72816596"
            ],
            "text/html": [
              "\n",
              "  <div id=\"df-5a62d079-4167-452b-996f-032795503749\">\n",
              "    <div class=\"colab-df-container\">\n",
              "      <div>\n",
              "<style scoped>\n",
              "    .dataframe tbody tr th:only-of-type {\n",
              "        vertical-align: middle;\n",
              "    }\n",
              "\n",
              "    .dataframe tbody tr th {\n",
              "        vertical-align: top;\n",
              "    }\n",
              "\n",
              "    .dataframe thead th {\n",
              "        text-align: right;\n",
              "    }\n",
              "</style>\n",
              "<table border=\"1\" class=\"dataframe\">\n",
              "  <thead>\n",
              "    <tr style=\"text-align: right;\">\n",
              "      <th></th>\n",
              "      <th>Category</th>\n",
              "      <th>Count</th>\n",
              "      <th>Installs</th>\n",
              "    </tr>\n",
              "  </thead>\n",
              "  <tbody>\n",
              "    <tr>\n",
              "      <th>0</th>\n",
              "      <td>Education</td>\n",
              "      <td>1832</td>\n",
              "      <td>63117607</td>\n",
              "    </tr>\n",
              "    <tr>\n",
              "      <th>1</th>\n",
              "      <td>Music &amp; Audio</td>\n",
              "      <td>1241</td>\n",
              "      <td>34093916</td>\n",
              "    </tr>\n",
              "    <tr>\n",
              "      <th>2</th>\n",
              "      <td>Business</td>\n",
              "      <td>1106</td>\n",
              "      <td>10566093</td>\n",
              "    </tr>\n",
              "    <tr>\n",
              "      <th>3</th>\n",
              "      <td>Tools</td>\n",
              "      <td>1101</td>\n",
              "      <td>160735209</td>\n",
              "    </tr>\n",
              "    <tr>\n",
              "      <th>4</th>\n",
              "      <td>Entertainment</td>\n",
              "      <td>1054</td>\n",
              "      <td>72816596</td>\n",
              "    </tr>\n",
              "  </tbody>\n",
              "</table>\n",
              "</div>\n",
              "      <button class=\"colab-df-convert\" onclick=\"convertToInteractive('df-5a62d079-4167-452b-996f-032795503749')\"\n",
              "              title=\"Convert this dataframe to an interactive table.\"\n",
              "              style=\"display:none;\">\n",
              "        \n",
              "  <svg xmlns=\"http://www.w3.org/2000/svg\" height=\"24px\"viewBox=\"0 0 24 24\"\n",
              "       width=\"24px\">\n",
              "    <path d=\"M0 0h24v24H0V0z\" fill=\"none\"/>\n",
              "    <path d=\"M18.56 5.44l.94 2.06.94-2.06 2.06-.94-2.06-.94-.94-2.06-.94 2.06-2.06.94zm-11 1L8.5 8.5l.94-2.06 2.06-.94-2.06-.94L8.5 2.5l-.94 2.06-2.06.94zm10 10l.94 2.06.94-2.06 2.06-.94-2.06-.94-.94-2.06-.94 2.06-2.06.94z\"/><path d=\"M17.41 7.96l-1.37-1.37c-.4-.4-.92-.59-1.43-.59-.52 0-1.04.2-1.43.59L10.3 9.45l-7.72 7.72c-.78.78-.78 2.05 0 2.83L4 21.41c.39.39.9.59 1.41.59.51 0 1.02-.2 1.41-.59l7.78-7.78 2.81-2.81c.8-.78.8-2.07 0-2.86zM5.41 20L4 18.59l7.72-7.72 1.47 1.35L5.41 20z\"/>\n",
              "  </svg>\n",
              "      </button>\n",
              "      \n",
              "  <style>\n",
              "    .colab-df-container {\n",
              "      display:flex;\n",
              "      flex-wrap:wrap;\n",
              "      gap: 12px;\n",
              "    }\n",
              "\n",
              "    .colab-df-convert {\n",
              "      background-color: #E8F0FE;\n",
              "      border: none;\n",
              "      border-radius: 50%;\n",
              "      cursor: pointer;\n",
              "      display: none;\n",
              "      fill: #1967D2;\n",
              "      height: 32px;\n",
              "      padding: 0 0 0 0;\n",
              "      width: 32px;\n",
              "    }\n",
              "\n",
              "    .colab-df-convert:hover {\n",
              "      background-color: #E2EBFA;\n",
              "      box-shadow: 0px 1px 2px rgba(60, 64, 67, 0.3), 0px 1px 3px 1px rgba(60, 64, 67, 0.15);\n",
              "      fill: #174EA6;\n",
              "    }\n",
              "\n",
              "    [theme=dark] .colab-df-convert {\n",
              "      background-color: #3B4455;\n",
              "      fill: #D2E3FC;\n",
              "    }\n",
              "\n",
              "    [theme=dark] .colab-df-convert:hover {\n",
              "      background-color: #434B5C;\n",
              "      box-shadow: 0px 1px 3px 1px rgba(0, 0, 0, 0.15);\n",
              "      filter: drop-shadow(0px 1px 2px rgba(0, 0, 0, 0.3));\n",
              "      fill: #FFFFFF;\n",
              "    }\n",
              "  </style>\n",
              "\n",
              "      <script>\n",
              "        const buttonEl =\n",
              "          document.querySelector('#df-5a62d079-4167-452b-996f-032795503749 button.colab-df-convert');\n",
              "        buttonEl.style.display =\n",
              "          google.colab.kernel.accessAllowed ? 'block' : 'none';\n",
              "\n",
              "        async function convertToInteractive(key) {\n",
              "          const element = document.querySelector('#df-5a62d079-4167-452b-996f-032795503749');\n",
              "          const dataTable =\n",
              "            await google.colab.kernel.invokeFunction('convertToInteractive',\n",
              "                                                     [key], {});\n",
              "          if (!dataTable) return;\n",
              "\n",
              "          const docLinkHtml = 'Like what you see? Visit the ' +\n",
              "            '<a target=\"_blank\" href=https://colab.research.google.com/notebooks/data_table.ipynb>data table notebook</a>'\n",
              "            + ' to learn more about interactive tables.';\n",
              "          element.innerHTML = '';\n",
              "          dataTable['output_type'] = 'display_data';\n",
              "          await google.colab.output.renderOutput(dataTable, element);\n",
              "          const docLink = document.createElement('div');\n",
              "          docLink.innerHTML = docLinkHtml;\n",
              "          element.appendChild(docLink);\n",
              "        }\n",
              "      </script>\n",
              "    </div>\n",
              "  </div>\n",
              "  "
            ]
          },
          "metadata": {},
          "execution_count": 57
        }
      ],
      "source": [
        "top_Category_installs = pd.merge(top_Category, Category_installs, on='Category')\n",
        "top_Category_installs.head(5)"
      ]
    },
    {
      "cell_type": "code",
      "execution_count": null,
      "metadata": {
        "id": "2a5cB_4Gv8nz"
      },
      "outputs": [],
      "source": [
        "top_10_Categories_installs = top_Category_installs.head(10).sort_values(by = ['Installs'],ascending = False)"
      ]
    },
    {
      "cell_type": "code",
      "execution_count": null,
      "metadata": {
        "id": "ljX5UBQjv8nz"
      },
      "outputs": [],
      "source": [
        "top_5_Categories_installs = top_Category_installs.head(5).sort_values(by = ['Installs'],ascending = False)"
      ]
    },
    {
      "cell_type": "code",
      "execution_count": null,
      "metadata": {
        "id": "PZcnQnJCv8n0"
      },
      "outputs": [],
      "source": [
        "top_Categories_installs_random = top_Category_installs.head(10).sort_values(by = ['Installs'])"
      ]
    },
    {
      "cell_type": "code",
      "execution_count": null,
      "metadata": {
        "colab": {
          "base_uri": "https://localhost:8080/"
        },
        "id": "AmiLdYdWv8n0",
        "outputId": "8e1973ac-3976-4171-eb4d-940c414f8d5b"
      },
      "outputs": [
        {
          "output_type": "execute_result",
          "data": {
            "text/plain": [
              "8         Productivity\n",
              "3                Tools\n",
              "4        Entertainment\n",
              "0            Education\n",
              "7      Personalization\n",
              "5            Lifestyle\n",
              "1        Music & Audio\n",
              "9     Health & Fitness\n",
              "6    Books & Reference\n",
              "2             Business\n",
              "Name: Category, dtype: object"
            ]
          },
          "metadata": {},
          "execution_count": 61
        }
      ],
      "source": [
        "top_10_Categories_installs.Category"
      ]
    },
    {
      "cell_type": "code",
      "execution_count": null,
      "metadata": {
        "colab": {
          "base_uri": "https://localhost:8080/"
        },
        "id": "iqDK6gP7v8n1",
        "outputId": "596fae1d-9b94-4d73-f28a-574b5c2b77fc"
      },
      "outputs": [
        {
          "output_type": "execute_result",
          "data": {
            "text/plain": [
              "8    1012278883\n",
              "3     160735209\n",
              "4      72816596\n",
              "0      63117607\n",
              "7      48393552\n",
              "5      40975315\n",
              "1      34093916\n",
              "9      24834346\n",
              "6      23408228\n",
              "2      10566093\n",
              "Name: Installs, dtype: int64"
            ]
          },
          "metadata": {},
          "execution_count": 62
        }
      ],
      "source": [
        "top_10_Categories_installs.Installs"
      ]
    },
    {
      "cell_type": "code",
      "execution_count": null,
      "metadata": {
        "colab": {
          "base_uri": "https://localhost:8080/",
          "height": 601
        },
        "id": "x22PGvfLv8n1",
        "outputId": "542a46a8-798c-49d8-e75a-8d5b2edfdf3c"
      },
      "outputs": [
        {
          "output_type": "stream",
          "name": "stderr",
          "text": [
            "/usr/local/lib/python3.8/dist-packages/seaborn/_decorators.py:36: FutureWarning: Pass the following variables as keyword args: x, y. From version 0.12, the only valid positional argument will be `data`, and passing other arguments without an explicit keyword will result in an error or misinterpretation.\n",
            "  warnings.warn(\n"
          ]
        },
        {
          "output_type": "execute_result",
          "data": {
            "text/plain": [
              "<matplotlib.axes._subplots.AxesSubplot at 0x7f12a780c250>"
            ]
          },
          "metadata": {},
          "execution_count": 63
        },
        {
          "output_type": "display_data",
          "data": {
            "text/plain": [
              "<Figure size 1008x504 with 1 Axes>"
            ],
            "image/png": "[encoded data removed]"
          },
          "metadata": {}
        }
      ],
      "source": [
        "import matplotlib.pyplot as plt\n",
        "plt.figure(figsize=(14,7))\n",
        "plt.xticks(rotation=60)\n",
        "plt.xlabel(\"Category\")\n",
        "plt.ylabel(\"Number of applications\")\n",
        "plt.title(\"Top 10 Installed Categories\")\n",
        "sns.barplot(top_10_Categories_installs.Category, top_10_Categories_installs.Installs)"
      ]
    },
    {
      "cell_type": "code",
      "execution_count": null,
      "metadata": {
        "colab": {
          "base_uri": "https://localhost:8080/",
          "height": 583
        },
        "id": "89YwP_bqv8n2",
        "outputId": "af96bd6c-86a3-4f9b-e7a5-f1aaa4929027"
      },
      "outputs": [
        {
          "output_type": "stream",
          "name": "stderr",
          "text": [
            "/usr/local/lib/python3.8/dist-packages/seaborn/_decorators.py:36: FutureWarning: Pass the following variables as keyword args: x, y. From version 0.12, the only valid positional argument will be `data`, and passing other arguments without an explicit keyword will result in an error or misinterpretation.\n",
            "  warnings.warn(\n"
          ]
        },
        {
          "output_type": "execute_result",
          "data": {
            "text/plain": [
              "<matplotlib.axes._subplots.AxesSubplot at 0x7f12a75a9dc0>"
            ]
          },
          "metadata": {},
          "execution_count": 64
        },
        {
          "output_type": "display_data",
          "data": {
            "text/plain": [
              "<Figure size 1008x504 with 1 Axes>"
            ],
            "image/png": "[encoded data removed]"
          },
          "metadata": {}
        }
      ],
      "source": [
        "plt.figure(figsize=(14,7))\n",
        "plt.xticks(rotation=60)\n",
        "plt.xlabel(\"Category\")\n",
        "plt.ylabel(\"Number of applications\")\n",
        "plt.title(\"Top 10 Installed Categories\")\n",
        "sns.barplot(top_5_Categories_installs.Category, top_5_Categories_installs.Installs)"
      ]
    },
    {
      "cell_type": "code",
      "execution_count": null,
      "metadata": {
        "colab": {
          "base_uri": "https://localhost:8080/",
          "height": 625
        },
        "id": "sk8OVNQcv8n2",
        "outputId": "4963d249-7f01-418e-b3c1-f40111149b7a"
      },
      "outputs": [
        {
          "output_type": "stream",
          "name": "stderr",
          "text": [
            "/usr/local/lib/python3.8/dist-packages/seaborn/_decorators.py:36: FutureWarning: Pass the following variables as keyword args: x, y. From version 0.12, the only valid positional argument will be `data`, and passing other arguments without an explicit keyword will result in an error or misinterpretation.\n",
            "  warnings.warn(\n"
          ]
        },
        {
          "output_type": "execute_result",
          "data": {
            "text/plain": [
              "<matplotlib.axes._subplots.AxesSubplot at 0x7f12a7658370>"
            ]
          },
          "metadata": {},
          "execution_count": 65
        },
        {
          "output_type": "display_data",
          "data": {
            "text/plain": [
              "<Figure size 1008x504 with 1 Axes>"
            ],
            "image/png": "[encoded data removed]"
          },
          "metadata": {}
        }
      ],
      "source": [
        "#Q2\n",
        "\n",
        "plt.figure(figsize=(14,7))\n",
        "plt.xticks(rotation=90)\n",
        "plt.xlabel(\"Category\")\n",
        "plt.ylabel(\"Number of applications\")\n",
        "plt.title(\"Top 10 Installed Categories\")\n",
        "sns.barplot(top_Category_installs.Category, top_Category_installs.Count)"
      ]
    },
    {
      "cell_type": "code",
      "execution_count": null,
      "metadata": {
        "colab": {
          "base_uri": "https://localhost:8080/",
          "height": 604
        },
        "id": "2jOF7MYEv8n4",
        "outputId": "174c39e6-1acf-48d5-b1f3-496bb3706dcb"
      },
      "outputs": [
        {
          "output_type": "stream",
          "name": "stderr",
          "text": [
            "/usr/local/lib/python3.8/dist-packages/seaborn/_decorators.py:36: FutureWarning: Pass the following variables as keyword args: x, y. From version 0.12, the only valid positional argument will be `data`, and passing other arguments without an explicit keyword will result in an error or misinterpretation.\n",
            "  warnings.warn(\n"
          ]
        },
        {
          "output_type": "execute_result",
          "data": {
            "text/plain": [
              "<matplotlib.axes._subplots.AxesSubplot at 0x7f12a6fd0e80>"
            ]
          },
          "metadata": {},
          "execution_count": 66
        },
        {
          "output_type": "display_data",
          "data": {
            "text/plain": [
              "<Figure size 1008x504 with 1 Axes>"
            ],
            "image/png": "[encoded data removed]"
          },
          "metadata": {}
        }
      ],
      "source": [
        "plt.figure(figsize=(14,7))\n",
        "plt.xticks(rotation=90)\n",
        "plt.xlabel(\"Category\")\n",
        "plt.ylabel(\"Number of applications\")\n",
        "plt.title(\"Top 10 Installed Categories\")\n",
        "sns.barplot(top_Categories_installs_random.Category, top_Categories_installs_random.Count)"
      ]
    },
    {
      "cell_type": "code",
      "execution_count": null,
      "metadata": {
        "colab": {
          "base_uri": "https://localhost:8080/",
          "height": 435
        },
        "id": "M1VPBUwUv8n4",
        "outputId": "27564a13-c085-46ef-f575-c6cd39e5dbf9"
      },
      "outputs": [
        {
          "output_type": "display_data",
          "data": {
            "text/plain": [
              "<Figure size 1008x504 with 1 Axes>"
            ],
            "image/png": "[encoded data removed]"
          },
          "metadata": {}
        }
      ],
      "source": [
        "plt.figure(figsize=(14,7))\n",
        "g = sns.kdeplot(df.Rating, color=\"Blue\",shade=True)"
      ]
    },
    {
      "cell_type": "code",
      "execution_count": null,
      "metadata": {
        "id": "yD5tOxRjv8n5"
      },
      "outputs": [],
      "source": []
    }
  ],
  "metadata": {
    "kernelspec": {
      "display_name": "Python 3",
      "language": "python",
      "name": "python3"
    },
    "language_info": {
      "codemirror_mode": {
        "name": "ipython",
        "version": 3
      },
      "file_extension": ".py",
      "mimetype": "text/x-python",
      "name": "python",
      "nbconvert_exporter": "python",
      "pygments_lexer": "ipython3",
      "version": "3.8.5"
    },
    "colab": {
      "provenance": []
    }
  },
  "nbformat": 4,
  "nbformat_minor": 0
}